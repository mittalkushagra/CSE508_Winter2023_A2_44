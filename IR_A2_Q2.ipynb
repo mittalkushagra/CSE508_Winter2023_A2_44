{
  "nbformat": 4,
  "nbformat_minor": 0,
  "metadata": {
    "colab": {
      "provenance": []
    },
    "kernelspec": {
      "name": "python3",
      "display_name": "Python 3"
    },
    "language_info": {
      "name": "python"
    }
  },
  "cells": [
    {
      "cell_type": "code",
      "execution_count": null,
      "metadata": {
        "colab": {
          "base_uri": "https://localhost:8080/"
        },
        "id": "nRByS86t8LzI",
        "outputId": "a637310a-ac3c-4454-e91a-20512cd56c2b"
      },
      "outputs": [
        {
          "output_type": "stream",
          "name": "stderr",
          "text": [
            "[nltk_data] Downloading package punkt to /root/nltk_data...\n",
            "[nltk_data]   Package punkt is already up-to-date!\n",
            "[nltk_data] Downloading package wordnet to /root/nltk_data...\n",
            "[nltk_data]   Package wordnet is already up-to-date!\n",
            "[nltk_data] Downloading package stopwords to /root/nltk_data...\n",
            "[nltk_data]   Package stopwords is already up-to-date!\n"
          ]
        }
      ],
      "source": [
        "\n",
        "\n",
        "#Importing pre-requisite libaries\n",
        "import os\n",
        "import re\n",
        "import nltk\n",
        "import glob\n",
        "import tqdm\n",
        "import pickle\n",
        "import random\n",
        "import string\n",
        "import inflect\n",
        "import operator\n",
        "import matplotlib\n",
        "import numpy as np\n",
        "import pandas as pd\n",
        "import seaborn as sns\n",
        "from tqdm import tqdm\n",
        "nltk.download('punkt')\n",
        "nltk.download('wordnet')\n",
        "nltk.download('stopwords')\n",
        "from nltk import tokenize\n",
        "from nltk import word_tokenize\n",
        "import matplotlib.pyplot as plt\n",
        "from collections import Counter\n",
        "from nltk.corpus import stopwords\n",
        "from prettytable import PrettyTable\n",
        "from nltk.stem import PorterStemmer\n",
        "from nltk.stem import WordNetLemmatizer"
      ]
    },
    {
      "cell_type": "code",
      "source": [
        "\n",
        "import itertools\n",
        "colors = itertools.cycle([\"r\", \"b\", \"g\"])"
      ],
      "metadata": {
        "id": "sLPSjpSSTJy5"
      },
      "execution_count": null,
      "outputs": []
    },
    {
      "cell_type": "code",
      "source": [
        "df=pd.read_csv('/content/drive/MyDrive/IR ASSIGNMENT 2/BBC News Train.csv',encoding='latin-1')"
      ],
      "metadata": {
        "id": "k08-dJ9N-5ua"
      },
      "execution_count": null,
      "outputs": []
    },
    {
      "cell_type": "code",
      "source": [
        "from google.colab import drive\n",
        "drive.mount('/content/drive')"
      ],
      "metadata": {
        "id": "6JNaNokFZIsG",
        "colab": {
          "base_uri": "https://localhost:8080/"
        },
        "outputId": "9df62088-3476-43bb-b19e-8f790f65a34d"
      },
      "execution_count": null,
      "outputs": [
        {
          "output_type": "stream",
          "name": "stdout",
          "text": [
            "Drive already mounted at /content/drive; to attempt to forcibly remount, call drive.mount(\"/content/drive\", force_remount=True).\n"
          ]
        }
      ]
    },
    {
      "cell_type": "code",
      "source": [
        "df.shape"
      ],
      "metadata": {
        "id": "cwtMIFPF-8vQ",
        "colab": {
          "base_uri": "https://localhost:8080/"
        },
        "outputId": "de7a6d6e-355f-4381-8b29-b69fb60bc749"
      },
      "execution_count": null,
      "outputs": [
        {
          "output_type": "execute_result",
          "data": {
            "text/plain": [
              "(1490, 3)"
            ]
          },
          "metadata": {},
          "execution_count": 60
        }
      ]
    },
    {
      "cell_type": "code",
      "source": [
        "df.head(5)"
      ],
      "metadata": {
        "id": "IyUKvrKA_v_H",
        "colab": {
          "base_uri": "https://localhost:8080/",
          "height": 206
        },
        "outputId": "0e98b743-cebd-4296-f186-6133f3188410"
      },
      "execution_count": null,
      "outputs": [
        {
          "output_type": "execute_result",
          "data": {
            "text/plain": [
              "   ArticleId                                               Text  Category\n",
              "0       1833  worldcom ex-boss launches defence lawyers defe...  business\n",
              "1        154  german business confidence slides german busin...  business\n",
              "2       1101  bbc poll indicates economic gloom citizens in ...  business\n",
              "3       1976  lifestyle  governs mobile choice  faster  bett...      tech\n",
              "4        917  enron bosses in $168m payout eighteen former e...  business"
            ],
            "text/html": [
              "\n",
              "  <div id=\"df-e7c2186d-81a7-467e-9a63-c9dd509855c4\">\n",
              "    <div class=\"colab-df-container\">\n",
              "      <div>\n",
              "<style scoped>\n",
              "    .dataframe tbody tr th:only-of-type {\n",
              "        vertical-align: middle;\n",
              "    }\n",
              "\n",
              "    .dataframe tbody tr th {\n",
              "        vertical-align: top;\n",
              "    }\n",
              "\n",
              "    .dataframe thead th {\n",
              "        text-align: right;\n",
              "    }\n",
              "</style>\n",
              "<table border=\"1\" class=\"dataframe\">\n",
              "  <thead>\n",
              "    <tr style=\"text-align: right;\">\n",
              "      <th></th>\n",
              "      <th>ArticleId</th>\n",
              "      <th>Text</th>\n",
              "      <th>Category</th>\n",
              "    </tr>\n",
              "  </thead>\n",
              "  <tbody>\n",
              "    <tr>\n",
              "      <th>0</th>\n",
              "      <td>1833</td>\n",
              "      <td>worldcom ex-boss launches defence lawyers defe...</td>\n",
              "      <td>business</td>\n",
              "    </tr>\n",
              "    <tr>\n",
              "      <th>1</th>\n",
              "      <td>154</td>\n",
              "      <td>german business confidence slides german busin...</td>\n",
              "      <td>business</td>\n",
              "    </tr>\n",
              "    <tr>\n",
              "      <th>2</th>\n",
              "      <td>1101</td>\n",
              "      <td>bbc poll indicates economic gloom citizens in ...</td>\n",
              "      <td>business</td>\n",
              "    </tr>\n",
              "    <tr>\n",
              "      <th>3</th>\n",
              "      <td>1976</td>\n",
              "      <td>lifestyle  governs mobile choice  faster  bett...</td>\n",
              "      <td>tech</td>\n",
              "    </tr>\n",
              "    <tr>\n",
              "      <th>4</th>\n",
              "      <td>917</td>\n",
              "      <td>enron bosses in $168m payout eighteen former e...</td>\n",
              "      <td>business</td>\n",
              "    </tr>\n",
              "  </tbody>\n",
              "</table>\n",
              "</div>\n",
              "      <button class=\"colab-df-convert\" onclick=\"convertToInteractive('df-e7c2186d-81a7-467e-9a63-c9dd509855c4')\"\n",
              "              title=\"Convert this dataframe to an interactive table.\"\n",
              "              style=\"display:none;\">\n",
              "        \n",
              "  <svg xmlns=\"http://www.w3.org/2000/svg\" height=\"24px\"viewBox=\"0 0 24 24\"\n",
              "       width=\"24px\">\n",
              "    <path d=\"M0 0h24v24H0V0z\" fill=\"none\"/>\n",
              "    <path d=\"M18.56 5.44l.94 2.06.94-2.06 2.06-.94-2.06-.94-.94-2.06-.94 2.06-2.06.94zm-11 1L8.5 8.5l.94-2.06 2.06-.94-2.06-.94L8.5 2.5l-.94 2.06-2.06.94zm10 10l.94 2.06.94-2.06 2.06-.94-2.06-.94-.94-2.06-.94 2.06-2.06.94z\"/><path d=\"M17.41 7.96l-1.37-1.37c-.4-.4-.92-.59-1.43-.59-.52 0-1.04.2-1.43.59L10.3 9.45l-7.72 7.72c-.78.78-.78 2.05 0 2.83L4 21.41c.39.39.9.59 1.41.59.51 0 1.02-.2 1.41-.59l7.78-7.78 2.81-2.81c.8-.78.8-2.07 0-2.86zM5.41 20L4 18.59l7.72-7.72 1.47 1.35L5.41 20z\"/>\n",
              "  </svg>\n",
              "      </button>\n",
              "      \n",
              "  <style>\n",
              "    .colab-df-container {\n",
              "      display:flex;\n",
              "      flex-wrap:wrap;\n",
              "      gap: 12px;\n",
              "    }\n",
              "\n",
              "    .colab-df-convert {\n",
              "      background-color: #E8F0FE;\n",
              "      border: none;\n",
              "      border-radius: 50%;\n",
              "      cursor: pointer;\n",
              "      display: none;\n",
              "      fill: #1967D2;\n",
              "      height: 32px;\n",
              "      padding: 0 0 0 0;\n",
              "      width: 32px;\n",
              "    }\n",
              "\n",
              "    .colab-df-convert:hover {\n",
              "      background-color: #E2EBFA;\n",
              "      box-shadow: 0px 1px 2px rgba(60, 64, 67, 0.3), 0px 1px 3px 1px rgba(60, 64, 67, 0.15);\n",
              "      fill: #174EA6;\n",
              "    }\n",
              "\n",
              "    [theme=dark] .colab-df-convert {\n",
              "      background-color: #3B4455;\n",
              "      fill: #D2E3FC;\n",
              "    }\n",
              "\n",
              "    [theme=dark] .colab-df-convert:hover {\n",
              "      background-color: #434B5C;\n",
              "      box-shadow: 0px 1px 3px 1px rgba(0, 0, 0, 0.15);\n",
              "      filter: drop-shadow(0px 1px 2px rgba(0, 0, 0, 0.3));\n",
              "      fill: #FFFFFF;\n",
              "    }\n",
              "  </style>\n",
              "\n",
              "      <script>\n",
              "        const buttonEl =\n",
              "          document.querySelector('#df-e7c2186d-81a7-467e-9a63-c9dd509855c4 button.colab-df-convert');\n",
              "        buttonEl.style.display =\n",
              "          google.colab.kernel.accessAllowed ? 'block' : 'none';\n",
              "\n",
              "        async function convertToInteractive(key) {\n",
              "          const element = document.querySelector('#df-e7c2186d-81a7-467e-9a63-c9dd509855c4');\n",
              "          const dataTable =\n",
              "            await google.colab.kernel.invokeFunction('convertToInteractive',\n",
              "                                                     [key], {});\n",
              "          if (!dataTable) return;\n",
              "\n",
              "          const docLinkHtml = 'Like what you see? Visit the ' +\n",
              "            '<a target=\"_blank\" href=https://colab.research.google.com/notebooks/data_table.ipynb>data table notebook</a>'\n",
              "            + ' to learn more about interactive tables.';\n",
              "          element.innerHTML = '';\n",
              "          dataTable['output_type'] = 'display_data';\n",
              "          await google.colab.output.renderOutput(dataTable, element);\n",
              "          const docLink = document.createElement('div');\n",
              "          docLink.innerHTML = docLinkHtml;\n",
              "          element.appendChild(docLink);\n",
              "        }\n",
              "      </script>\n",
              "    </div>\n",
              "  </div>\n",
              "  "
            ]
          },
          "metadata": {},
          "execution_count": 61
        }
      ]
    },
    {
      "cell_type": "code",
      "source": [
        "from bs4 import BeautifulSoup\n",
        "def cleanText(text):\n",
        "    text = BeautifulSoup(text, \"lxml\").text\n",
        "    text = re.sub(r'\\|\\|\\|', r' ', text) \n",
        "    text = re.sub(r'http\\S+', r'<URL>', text)\n",
        "    text = text.lower()\n",
        "    text = text.replace('x', '')\n",
        "    text= text.replace(',','')\n",
        "    text = text.replace('\\'s','')\n",
        "    return text\n",
        "df['Text'] = df['Text'].apply(cleanText)"
      ],
      "metadata": {
        "id": "llaF3zmzTK1z"
      },
      "execution_count": null,
      "outputs": []
    },
    {
      "cell_type": "code",
      "source": [
        "df.head(10)"
      ],
      "metadata": {
        "id": "1Uj6URr6UIVe",
        "colab": {
          "base_uri": "https://localhost:8080/",
          "height": 363
        },
        "outputId": "bcfd64b0-35ba-4c23-c3d0-04b85f5bb5d4"
      },
      "execution_count": null,
      "outputs": [
        {
          "output_type": "execute_result",
          "data": {
            "text/plain": [
              "   ArticleId                                               Text       Category\n",
              "0       1833  worldcom e-boss launches defence lawyers defen...       business\n",
              "1        154  german business confidence slides german busin...       business\n",
              "2       1101  bbc poll indicates economic gloom citizens in ...       business\n",
              "3       1976  lifestyle  governs mobile choice  faster  bett...           tech\n",
              "4        917  enron bosses in $168m payout eighteen former e...       business\n",
              "5       1582  howard  truanted to play snooker  conservative...       politics\n",
              "6        651  wales silent on grand slam talk rhys williams ...          sport\n",
              "7       1797  french honour for director parker british film...  entertainment\n",
              "8       2034  car giant hit by mercedes slump a slump in pro...       business\n",
              "9       1866  fockers fuel festive film chart comedy meet th...  entertainment"
            ],
            "text/html": [
              "\n",
              "  <div id=\"df-7c941e8e-6319-4f96-8927-e600a0b0349b\">\n",
              "    <div class=\"colab-df-container\">\n",
              "      <div>\n",
              "<style scoped>\n",
              "    .dataframe tbody tr th:only-of-type {\n",
              "        vertical-align: middle;\n",
              "    }\n",
              "\n",
              "    .dataframe tbody tr th {\n",
              "        vertical-align: top;\n",
              "    }\n",
              "\n",
              "    .dataframe thead th {\n",
              "        text-align: right;\n",
              "    }\n",
              "</style>\n",
              "<table border=\"1\" class=\"dataframe\">\n",
              "  <thead>\n",
              "    <tr style=\"text-align: right;\">\n",
              "      <th></th>\n",
              "      <th>ArticleId</th>\n",
              "      <th>Text</th>\n",
              "      <th>Category</th>\n",
              "    </tr>\n",
              "  </thead>\n",
              "  <tbody>\n",
              "    <tr>\n",
              "      <th>0</th>\n",
              "      <td>1833</td>\n",
              "      <td>worldcom e-boss launches defence lawyers defen...</td>\n",
              "      <td>business</td>\n",
              "    </tr>\n",
              "    <tr>\n",
              "      <th>1</th>\n",
              "      <td>154</td>\n",
              "      <td>german business confidence slides german busin...</td>\n",
              "      <td>business</td>\n",
              "    </tr>\n",
              "    <tr>\n",
              "      <th>2</th>\n",
              "      <td>1101</td>\n",
              "      <td>bbc poll indicates economic gloom citizens in ...</td>\n",
              "      <td>business</td>\n",
              "    </tr>\n",
              "    <tr>\n",
              "      <th>3</th>\n",
              "      <td>1976</td>\n",
              "      <td>lifestyle  governs mobile choice  faster  bett...</td>\n",
              "      <td>tech</td>\n",
              "    </tr>\n",
              "    <tr>\n",
              "      <th>4</th>\n",
              "      <td>917</td>\n",
              "      <td>enron bosses in $168m payout eighteen former e...</td>\n",
              "      <td>business</td>\n",
              "    </tr>\n",
              "    <tr>\n",
              "      <th>5</th>\n",
              "      <td>1582</td>\n",
              "      <td>howard  truanted to play snooker  conservative...</td>\n",
              "      <td>politics</td>\n",
              "    </tr>\n",
              "    <tr>\n",
              "      <th>6</th>\n",
              "      <td>651</td>\n",
              "      <td>wales silent on grand slam talk rhys williams ...</td>\n",
              "      <td>sport</td>\n",
              "    </tr>\n",
              "    <tr>\n",
              "      <th>7</th>\n",
              "      <td>1797</td>\n",
              "      <td>french honour for director parker british film...</td>\n",
              "      <td>entertainment</td>\n",
              "    </tr>\n",
              "    <tr>\n",
              "      <th>8</th>\n",
              "      <td>2034</td>\n",
              "      <td>car giant hit by mercedes slump a slump in pro...</td>\n",
              "      <td>business</td>\n",
              "    </tr>\n",
              "    <tr>\n",
              "      <th>9</th>\n",
              "      <td>1866</td>\n",
              "      <td>fockers fuel festive film chart comedy meet th...</td>\n",
              "      <td>entertainment</td>\n",
              "    </tr>\n",
              "  </tbody>\n",
              "</table>\n",
              "</div>\n",
              "      <button class=\"colab-df-convert\" onclick=\"convertToInteractive('df-7c941e8e-6319-4f96-8927-e600a0b0349b')\"\n",
              "              title=\"Convert this dataframe to an interactive table.\"\n",
              "              style=\"display:none;\">\n",
              "        \n",
              "  <svg xmlns=\"http://www.w3.org/2000/svg\" height=\"24px\"viewBox=\"0 0 24 24\"\n",
              "       width=\"24px\">\n",
              "    <path d=\"M0 0h24v24H0V0z\" fill=\"none\"/>\n",
              "    <path d=\"M18.56 5.44l.94 2.06.94-2.06 2.06-.94-2.06-.94-.94-2.06-.94 2.06-2.06.94zm-11 1L8.5 8.5l.94-2.06 2.06-.94-2.06-.94L8.5 2.5l-.94 2.06-2.06.94zm10 10l.94 2.06.94-2.06 2.06-.94-2.06-.94-.94-2.06-.94 2.06-2.06.94z\"/><path d=\"M17.41 7.96l-1.37-1.37c-.4-.4-.92-.59-1.43-.59-.52 0-1.04.2-1.43.59L10.3 9.45l-7.72 7.72c-.78.78-.78 2.05 0 2.83L4 21.41c.39.39.9.59 1.41.59.51 0 1.02-.2 1.41-.59l7.78-7.78 2.81-2.81c.8-.78.8-2.07 0-2.86zM5.41 20L4 18.59l7.72-7.72 1.47 1.35L5.41 20z\"/>\n",
              "  </svg>\n",
              "      </button>\n",
              "      \n",
              "  <style>\n",
              "    .colab-df-container {\n",
              "      display:flex;\n",
              "      flex-wrap:wrap;\n",
              "      gap: 12px;\n",
              "    }\n",
              "\n",
              "    .colab-df-convert {\n",
              "      background-color: #E8F0FE;\n",
              "      border: none;\n",
              "      border-radius: 50%;\n",
              "      cursor: pointer;\n",
              "      display: none;\n",
              "      fill: #1967D2;\n",
              "      height: 32px;\n",
              "      padding: 0 0 0 0;\n",
              "      width: 32px;\n",
              "    }\n",
              "\n",
              "    .colab-df-convert:hover {\n",
              "      background-color: #E2EBFA;\n",
              "      box-shadow: 0px 1px 2px rgba(60, 64, 67, 0.3), 0px 1px 3px 1px rgba(60, 64, 67, 0.15);\n",
              "      fill: #174EA6;\n",
              "    }\n",
              "\n",
              "    [theme=dark] .colab-df-convert {\n",
              "      background-color: #3B4455;\n",
              "      fill: #D2E3FC;\n",
              "    }\n",
              "\n",
              "    [theme=dark] .colab-df-convert:hover {\n",
              "      background-color: #434B5C;\n",
              "      box-shadow: 0px 1px 3px 1px rgba(0, 0, 0, 0.15);\n",
              "      filter: drop-shadow(0px 1px 2px rgba(0, 0, 0, 0.3));\n",
              "      fill: #FFFFFF;\n",
              "    }\n",
              "  </style>\n",
              "\n",
              "      <script>\n",
              "        const buttonEl =\n",
              "          document.querySelector('#df-7c941e8e-6319-4f96-8927-e600a0b0349b button.colab-df-convert');\n",
              "        buttonEl.style.display =\n",
              "          google.colab.kernel.accessAllowed ? 'block' : 'none';\n",
              "\n",
              "        async function convertToInteractive(key) {\n",
              "          const element = document.querySelector('#df-7c941e8e-6319-4f96-8927-e600a0b0349b');\n",
              "          const dataTable =\n",
              "            await google.colab.kernel.invokeFunction('convertToInteractive',\n",
              "                                                     [key], {});\n",
              "          if (!dataTable) return;\n",
              "\n",
              "          const docLinkHtml = 'Like what you see? Visit the ' +\n",
              "            '<a target=\"_blank\" href=https://colab.research.google.com/notebooks/data_table.ipynb>data table notebook</a>'\n",
              "            + ' to learn more about interactive tables.';\n",
              "          element.innerHTML = '';\n",
              "          dataTable['output_type'] = 'display_data';\n",
              "          await google.colab.output.renderOutput(dataTable, element);\n",
              "          const docLink = document.createElement('div');\n",
              "          docLink.innerHTML = docLinkHtml;\n",
              "          element.appendChild(docLink);\n",
              "        }\n",
              "      </script>\n",
              "    </div>\n",
              "  </div>\n",
              "  "
            ]
          },
          "metadata": {},
          "execution_count": 63
        }
      ]
    },
    {
      "cell_type": "code",
      "source": [
        "len(df)"
      ],
      "metadata": {
        "id": "qRHKZnPcWM8i",
        "colab": {
          "base_uri": "https://localhost:8080/"
        },
        "outputId": "8901ed9b-7020-48ad-ecfd-a8aa7d34ece4"
      },
      "execution_count": null,
      "outputs": [
        {
          "output_type": "execute_result",
          "data": {
            "text/plain": [
              "1490"
            ]
          },
          "metadata": {},
          "execution_count": 64
        }
      ]
    },
    {
      "cell_type": "code",
      "source": [
        "tempdf=df['Text']"
      ],
      "metadata": {
        "id": "nYb2bWnxXIeE"
      },
      "execution_count": null,
      "outputs": []
    },
    {
      "cell_type": "code",
      "source": [
        "tempdf=tempdf.apply(word_tokenize)"
      ],
      "metadata": {
        "id": "lICiAEXRXNtJ"
      },
      "execution_count": null,
      "outputs": []
    },
    {
      "cell_type": "code",
      "source": [
        "tempdf.head()\n",
        "\n",
        "df['Text']=tempdf"
      ],
      "metadata": {
        "id": "UsanlH9FXTXp"
      },
      "execution_count": null,
      "outputs": []
    },
    {
      "cell_type": "code",
      "source": [
        "df.head()"
      ],
      "metadata": {
        "id": "yV3PgPN-VD6L",
        "colab": {
          "base_uri": "https://localhost:8080/",
          "height": 206
        },
        "outputId": "6852cb92-8532-4cc0-9786-d598b4e792ea"
      },
      "execution_count": null,
      "outputs": [
        {
          "output_type": "execute_result",
          "data": {
            "text/plain": [
              "   ArticleId                                               Text  Category\n",
              "0       1833  [worldcom, e-boss, launches, defence, lawyers,...  business\n",
              "1        154  [german, business, confidence, slides, german,...  business\n",
              "2       1101  [bbc, poll, indicates, economic, gloom, citize...  business\n",
              "3       1976  [lifestyle, governs, mobile, choice, faster, b...      tech\n",
              "4        917  [enron, bosses, in, $, 168m, payout, eighteen,...  business"
            ],
            "text/html": [
              "\n",
              "  <div id=\"df-8e082a66-b095-45c3-b552-b41edc11a006\">\n",
              "    <div class=\"colab-df-container\">\n",
              "      <div>\n",
              "<style scoped>\n",
              "    .dataframe tbody tr th:only-of-type {\n",
              "        vertical-align: middle;\n",
              "    }\n",
              "\n",
              "    .dataframe tbody tr th {\n",
              "        vertical-align: top;\n",
              "    }\n",
              "\n",
              "    .dataframe thead th {\n",
              "        text-align: right;\n",
              "    }\n",
              "</style>\n",
              "<table border=\"1\" class=\"dataframe\">\n",
              "  <thead>\n",
              "    <tr style=\"text-align: right;\">\n",
              "      <th></th>\n",
              "      <th>ArticleId</th>\n",
              "      <th>Text</th>\n",
              "      <th>Category</th>\n",
              "    </tr>\n",
              "  </thead>\n",
              "  <tbody>\n",
              "    <tr>\n",
              "      <th>0</th>\n",
              "      <td>1833</td>\n",
              "      <td>[worldcom, e-boss, launches, defence, lawyers,...</td>\n",
              "      <td>business</td>\n",
              "    </tr>\n",
              "    <tr>\n",
              "      <th>1</th>\n",
              "      <td>154</td>\n",
              "      <td>[german, business, confidence, slides, german,...</td>\n",
              "      <td>business</td>\n",
              "    </tr>\n",
              "    <tr>\n",
              "      <th>2</th>\n",
              "      <td>1101</td>\n",
              "      <td>[bbc, poll, indicates, economic, gloom, citize...</td>\n",
              "      <td>business</td>\n",
              "    </tr>\n",
              "    <tr>\n",
              "      <th>3</th>\n",
              "      <td>1976</td>\n",
              "      <td>[lifestyle, governs, mobile, choice, faster, b...</td>\n",
              "      <td>tech</td>\n",
              "    </tr>\n",
              "    <tr>\n",
              "      <th>4</th>\n",
              "      <td>917</td>\n",
              "      <td>[enron, bosses, in, $, 168m, payout, eighteen,...</td>\n",
              "      <td>business</td>\n",
              "    </tr>\n",
              "  </tbody>\n",
              "</table>\n",
              "</div>\n",
              "      <button class=\"colab-df-convert\" onclick=\"convertToInteractive('df-8e082a66-b095-45c3-b552-b41edc11a006')\"\n",
              "              title=\"Convert this dataframe to an interactive table.\"\n",
              "              style=\"display:none;\">\n",
              "        \n",
              "  <svg xmlns=\"http://www.w3.org/2000/svg\" height=\"24px\"viewBox=\"0 0 24 24\"\n",
              "       width=\"24px\">\n",
              "    <path d=\"M0 0h24v24H0V0z\" fill=\"none\"/>\n",
              "    <path d=\"M18.56 5.44l.94 2.06.94-2.06 2.06-.94-2.06-.94-.94-2.06-.94 2.06-2.06.94zm-11 1L8.5 8.5l.94-2.06 2.06-.94-2.06-.94L8.5 2.5l-.94 2.06-2.06.94zm10 10l.94 2.06.94-2.06 2.06-.94-2.06-.94-.94-2.06-.94 2.06-2.06.94z\"/><path d=\"M17.41 7.96l-1.37-1.37c-.4-.4-.92-.59-1.43-.59-.52 0-1.04.2-1.43.59L10.3 9.45l-7.72 7.72c-.78.78-.78 2.05 0 2.83L4 21.41c.39.39.9.59 1.41.59.51 0 1.02-.2 1.41-.59l7.78-7.78 2.81-2.81c.8-.78.8-2.07 0-2.86zM5.41 20L4 18.59l7.72-7.72 1.47 1.35L5.41 20z\"/>\n",
              "  </svg>\n",
              "      </button>\n",
              "      \n",
              "  <style>\n",
              "    .colab-df-container {\n",
              "      display:flex;\n",
              "      flex-wrap:wrap;\n",
              "      gap: 12px;\n",
              "    }\n",
              "\n",
              "    .colab-df-convert {\n",
              "      background-color: #E8F0FE;\n",
              "      border: none;\n",
              "      border-radius: 50%;\n",
              "      cursor: pointer;\n",
              "      display: none;\n",
              "      fill: #1967D2;\n",
              "      height: 32px;\n",
              "      padding: 0 0 0 0;\n",
              "      width: 32px;\n",
              "    }\n",
              "\n",
              "    .colab-df-convert:hover {\n",
              "      background-color: #E2EBFA;\n",
              "      box-shadow: 0px 1px 2px rgba(60, 64, 67, 0.3), 0px 1px 3px 1px rgba(60, 64, 67, 0.15);\n",
              "      fill: #174EA6;\n",
              "    }\n",
              "\n",
              "    [theme=dark] .colab-df-convert {\n",
              "      background-color: #3B4455;\n",
              "      fill: #D2E3FC;\n",
              "    }\n",
              "\n",
              "    [theme=dark] .colab-df-convert:hover {\n",
              "      background-color: #434B5C;\n",
              "      box-shadow: 0px 1px 3px 1px rgba(0, 0, 0, 0.15);\n",
              "      filter: drop-shadow(0px 1px 2px rgba(0, 0, 0, 0.3));\n",
              "      fill: #FFFFFF;\n",
              "    }\n",
              "  </style>\n",
              "\n",
              "      <script>\n",
              "        const buttonEl =\n",
              "          document.querySelector('#df-8e082a66-b095-45c3-b552-b41edc11a006 button.colab-df-convert');\n",
              "        buttonEl.style.display =\n",
              "          google.colab.kernel.accessAllowed ? 'block' : 'none';\n",
              "\n",
              "        async function convertToInteractive(key) {\n",
              "          const element = document.querySelector('#df-8e082a66-b095-45c3-b552-b41edc11a006');\n",
              "          const dataTable =\n",
              "            await google.colab.kernel.invokeFunction('convertToInteractive',\n",
              "                                                     [key], {});\n",
              "          if (!dataTable) return;\n",
              "\n",
              "          const docLinkHtml = 'Like what you see? Visit the ' +\n",
              "            '<a target=\"_blank\" href=https://colab.research.google.com/notebooks/data_table.ipynb>data table notebook</a>'\n",
              "            + ' to learn more about interactive tables.';\n",
              "          element.innerHTML = '';\n",
              "          dataTable['output_type'] = 'display_data';\n",
              "          await google.colab.output.renderOutput(dataTable, element);\n",
              "          const docLink = document.createElement('div');\n",
              "          docLink.innerHTML = docLinkHtml;\n",
              "          element.appendChild(docLink);\n",
              "        }\n",
              "      </script>\n",
              "    </div>\n",
              "  </div>\n",
              "  "
            ]
          },
          "metadata": {},
          "execution_count": 68
        }
      ]
    },
    {
      "cell_type": "code",
      "source": [
        "tempdf=df['Text']"
      ],
      "metadata": {
        "id": "WtJJ0q0JUK3X"
      },
      "execution_count": null,
      "outputs": []
    },
    {
      "cell_type": "code",
      "source": [
        "tempdf"
      ],
      "metadata": {
        "id": "w-qHMcmKX35e",
        "colab": {
          "base_uri": "https://localhost:8080/"
        },
        "outputId": "db750f54-8182-485c-c2e0-23c7b92ee49c"
      },
      "execution_count": null,
      "outputs": [
        {
          "output_type": "execute_result",
          "data": {
            "text/plain": [
              "0       [worldcom, e-boss, launches, defence, lawyers,...\n",
              "1       [german, business, confidence, slides, german,...\n",
              "2       [bbc, poll, indicates, economic, gloom, citize...\n",
              "3       [lifestyle, governs, mobile, choice, faster, b...\n",
              "4       [enron, bosses, in, $, 168m, payout, eighteen,...\n",
              "                              ...                        \n",
              "1485    [double, eviction, from, big, brother, model, ...\n",
              "1486    [dj, double, act, revamp, chart, show, dj, duo...\n",
              "1487    [weak, dollar, hits, reuters, revenues, at, me...\n",
              "1488    [apple, ipod, family, epands, market, apple, h...\n",
              "1489    [santy, worm, makes, unwelcome, visit, thousan...\n",
              "Name: Text, Length: 1490, dtype: object"
            ]
          },
          "metadata": {},
          "execution_count": 70
        }
      ]
    },
    {
      "cell_type": "code",
      "source": [
        "import nltk\n",
        "nltk.download('stopwords')\n",
        "stopli = set(stopwords.words('english'))"
      ],
      "metadata": {
        "id": "mjwX7-20Xj7V",
        "colab": {
          "base_uri": "https://localhost:8080/"
        },
        "outputId": "72cd2c64-9737-4035-e5f8-70e0dc14ccef"
      },
      "execution_count": null,
      "outputs": [
        {
          "output_type": "stream",
          "name": "stderr",
          "text": [
            "[nltk_data] Downloading package stopwords to /root/nltk_data...\n",
            "[nltk_data]   Package stopwords is already up-to-date!\n"
          ]
        }
      ]
    },
    {
      "cell_type": "code",
      "source": [
        "tempdf=tempdf.apply(lambda x: [item for item in x if item not in stopli])"
      ],
      "metadata": {
        "id": "jtD4zK4_XxkC"
      },
      "execution_count": null,
      "outputs": []
    },
    {
      "cell_type": "code",
      "source": [
        "df['Text']=tempdf"
      ],
      "metadata": {
        "id": "E04F3Y_pX7ti"
      },
      "execution_count": null,
      "outputs": []
    },
    {
      "cell_type": "code",
      "source": [
        "df.head()"
      ],
      "metadata": {
        "id": "fBkVzk_iYH4w",
        "colab": {
          "base_uri": "https://localhost:8080/",
          "height": 206
        },
        "outputId": "1c83eb04-b71e-4667-a8eb-dc8bc63abdb3"
      },
      "execution_count": null,
      "outputs": [
        {
          "output_type": "execute_result",
          "data": {
            "text/plain": [
              "   ArticleId                                               Text  Category\n",
              "0       1833  [worldcom, e-boss, launches, defence, lawyers,...  business\n",
              "1        154  [german, business, confidence, slides, german,...  business\n",
              "2       1101  [bbc, poll, indicates, economic, gloom, citize...  business\n",
              "3       1976  [lifestyle, governs, mobile, choice, faster, b...      tech\n",
              "4        917  [enron, bosses, $, 168m, payout, eighteen, for...  business"
            ],
            "text/html": [
              "\n",
              "  <div id=\"df-29faef8b-791e-49f8-9a8f-a8875677b77a\">\n",
              "    <div class=\"colab-df-container\">\n",
              "      <div>\n",
              "<style scoped>\n",
              "    .dataframe tbody tr th:only-of-type {\n",
              "        vertical-align: middle;\n",
              "    }\n",
              "\n",
              "    .dataframe tbody tr th {\n",
              "        vertical-align: top;\n",
              "    }\n",
              "\n",
              "    .dataframe thead th {\n",
              "        text-align: right;\n",
              "    }\n",
              "</style>\n",
              "<table border=\"1\" class=\"dataframe\">\n",
              "  <thead>\n",
              "    <tr style=\"text-align: right;\">\n",
              "      <th></th>\n",
              "      <th>ArticleId</th>\n",
              "      <th>Text</th>\n",
              "      <th>Category</th>\n",
              "    </tr>\n",
              "  </thead>\n",
              "  <tbody>\n",
              "    <tr>\n",
              "      <th>0</th>\n",
              "      <td>1833</td>\n",
              "      <td>[worldcom, e-boss, launches, defence, lawyers,...</td>\n",
              "      <td>business</td>\n",
              "    </tr>\n",
              "    <tr>\n",
              "      <th>1</th>\n",
              "      <td>154</td>\n",
              "      <td>[german, business, confidence, slides, german,...</td>\n",
              "      <td>business</td>\n",
              "    </tr>\n",
              "    <tr>\n",
              "      <th>2</th>\n",
              "      <td>1101</td>\n",
              "      <td>[bbc, poll, indicates, economic, gloom, citize...</td>\n",
              "      <td>business</td>\n",
              "    </tr>\n",
              "    <tr>\n",
              "      <th>3</th>\n",
              "      <td>1976</td>\n",
              "      <td>[lifestyle, governs, mobile, choice, faster, b...</td>\n",
              "      <td>tech</td>\n",
              "    </tr>\n",
              "    <tr>\n",
              "      <th>4</th>\n",
              "      <td>917</td>\n",
              "      <td>[enron, bosses, $, 168m, payout, eighteen, for...</td>\n",
              "      <td>business</td>\n",
              "    </tr>\n",
              "  </tbody>\n",
              "</table>\n",
              "</div>\n",
              "      <button class=\"colab-df-convert\" onclick=\"convertToInteractive('df-29faef8b-791e-49f8-9a8f-a8875677b77a')\"\n",
              "              title=\"Convert this dataframe to an interactive table.\"\n",
              "              style=\"display:none;\">\n",
              "        \n",
              "  <svg xmlns=\"http://www.w3.org/2000/svg\" height=\"24px\"viewBox=\"0 0 24 24\"\n",
              "       width=\"24px\">\n",
              "    <path d=\"M0 0h24v24H0V0z\" fill=\"none\"/>\n",
              "    <path d=\"M18.56 5.44l.94 2.06.94-2.06 2.06-.94-2.06-.94-.94-2.06-.94 2.06-2.06.94zm-11 1L8.5 8.5l.94-2.06 2.06-.94-2.06-.94L8.5 2.5l-.94 2.06-2.06.94zm10 10l.94 2.06.94-2.06 2.06-.94-2.06-.94-.94-2.06-.94 2.06-2.06.94z\"/><path d=\"M17.41 7.96l-1.37-1.37c-.4-.4-.92-.59-1.43-.59-.52 0-1.04.2-1.43.59L10.3 9.45l-7.72 7.72c-.78.78-.78 2.05 0 2.83L4 21.41c.39.39.9.59 1.41.59.51 0 1.02-.2 1.41-.59l7.78-7.78 2.81-2.81c.8-.78.8-2.07 0-2.86zM5.41 20L4 18.59l7.72-7.72 1.47 1.35L5.41 20z\"/>\n",
              "  </svg>\n",
              "      </button>\n",
              "      \n",
              "  <style>\n",
              "    .colab-df-container {\n",
              "      display:flex;\n",
              "      flex-wrap:wrap;\n",
              "      gap: 12px;\n",
              "    }\n",
              "\n",
              "    .colab-df-convert {\n",
              "      background-color: #E8F0FE;\n",
              "      border: none;\n",
              "      border-radius: 50%;\n",
              "      cursor: pointer;\n",
              "      display: none;\n",
              "      fill: #1967D2;\n",
              "      height: 32px;\n",
              "      padding: 0 0 0 0;\n",
              "      width: 32px;\n",
              "    }\n",
              "\n",
              "    .colab-df-convert:hover {\n",
              "      background-color: #E2EBFA;\n",
              "      box-shadow: 0px 1px 2px rgba(60, 64, 67, 0.3), 0px 1px 3px 1px rgba(60, 64, 67, 0.15);\n",
              "      fill: #174EA6;\n",
              "    }\n",
              "\n",
              "    [theme=dark] .colab-df-convert {\n",
              "      background-color: #3B4455;\n",
              "      fill: #D2E3FC;\n",
              "    }\n",
              "\n",
              "    [theme=dark] .colab-df-convert:hover {\n",
              "      background-color: #434B5C;\n",
              "      box-shadow: 0px 1px 3px 1px rgba(0, 0, 0, 0.15);\n",
              "      filter: drop-shadow(0px 1px 2px rgba(0, 0, 0, 0.3));\n",
              "      fill: #FFFFFF;\n",
              "    }\n",
              "  </style>\n",
              "\n",
              "      <script>\n",
              "        const buttonEl =\n",
              "          document.querySelector('#df-29faef8b-791e-49f8-9a8f-a8875677b77a button.colab-df-convert');\n",
              "        buttonEl.style.display =\n",
              "          google.colab.kernel.accessAllowed ? 'block' : 'none';\n",
              "\n",
              "        async function convertToInteractive(key) {\n",
              "          const element = document.querySelector('#df-29faef8b-791e-49f8-9a8f-a8875677b77a');\n",
              "          const dataTable =\n",
              "            await google.colab.kernel.invokeFunction('convertToInteractive',\n",
              "                                                     [key], {});\n",
              "          if (!dataTable) return;\n",
              "\n",
              "          const docLinkHtml = 'Like what you see? Visit the ' +\n",
              "            '<a target=\"_blank\" href=https://colab.research.google.com/notebooks/data_table.ipynb>data table notebook</a>'\n",
              "            + ' to learn more about interactive tables.';\n",
              "          element.innerHTML = '';\n",
              "          dataTable['output_type'] = 'display_data';\n",
              "          await google.colab.output.renderOutput(dataTable, element);\n",
              "          const docLink = document.createElement('div');\n",
              "          docLink.innerHTML = docLinkHtml;\n",
              "          element.appendChild(docLink);\n",
              "        }\n",
              "      </script>\n",
              "    </div>\n",
              "  </div>\n",
              "  "
            ]
          },
          "metadata": {},
          "execution_count": 74
        }
      ]
    },
    {
      "cell_type": "code",
      "source": [
        "text=df.Text\n",
        "df.drop('Text', axis=1)"
      ],
      "metadata": {
        "id": "RfI8rH9HeKNv",
        "colab": {
          "base_uri": "https://localhost:8080/",
          "height": 424
        },
        "outputId": "a68e257e-d89c-429c-f576-0dd1b0209b40"
      },
      "execution_count": null,
      "outputs": [
        {
          "output_type": "execute_result",
          "data": {
            "text/plain": [
              "      ArticleId       Category\n",
              "0          1833       business\n",
              "1           154       business\n",
              "2          1101       business\n",
              "3          1976           tech\n",
              "4           917       business\n",
              "...         ...            ...\n",
              "1485        857  entertainment\n",
              "1486        325  entertainment\n",
              "1487       1590       business\n",
              "1488       1587           tech\n",
              "1489        538           tech\n",
              "\n",
              "[1490 rows x 2 columns]"
            ],
            "text/html": [
              "\n",
              "  <div id=\"df-6f8f7146-5df1-45eb-8c9e-a0795f3a68a9\">\n",
              "    <div class=\"colab-df-container\">\n",
              "      <div>\n",
              "<style scoped>\n",
              "    .dataframe tbody tr th:only-of-type {\n",
              "        vertical-align: middle;\n",
              "    }\n",
              "\n",
              "    .dataframe tbody tr th {\n",
              "        vertical-align: top;\n",
              "    }\n",
              "\n",
              "    .dataframe thead th {\n",
              "        text-align: right;\n",
              "    }\n",
              "</style>\n",
              "<table border=\"1\" class=\"dataframe\">\n",
              "  <thead>\n",
              "    <tr style=\"text-align: right;\">\n",
              "      <th></th>\n",
              "      <th>ArticleId</th>\n",
              "      <th>Category</th>\n",
              "    </tr>\n",
              "  </thead>\n",
              "  <tbody>\n",
              "    <tr>\n",
              "      <th>0</th>\n",
              "      <td>1833</td>\n",
              "      <td>business</td>\n",
              "    </tr>\n",
              "    <tr>\n",
              "      <th>1</th>\n",
              "      <td>154</td>\n",
              "      <td>business</td>\n",
              "    </tr>\n",
              "    <tr>\n",
              "      <th>2</th>\n",
              "      <td>1101</td>\n",
              "      <td>business</td>\n",
              "    </tr>\n",
              "    <tr>\n",
              "      <th>3</th>\n",
              "      <td>1976</td>\n",
              "      <td>tech</td>\n",
              "    </tr>\n",
              "    <tr>\n",
              "      <th>4</th>\n",
              "      <td>917</td>\n",
              "      <td>business</td>\n",
              "    </tr>\n",
              "    <tr>\n",
              "      <th>...</th>\n",
              "      <td>...</td>\n",
              "      <td>...</td>\n",
              "    </tr>\n",
              "    <tr>\n",
              "      <th>1485</th>\n",
              "      <td>857</td>\n",
              "      <td>entertainment</td>\n",
              "    </tr>\n",
              "    <tr>\n",
              "      <th>1486</th>\n",
              "      <td>325</td>\n",
              "      <td>entertainment</td>\n",
              "    </tr>\n",
              "    <tr>\n",
              "      <th>1487</th>\n",
              "      <td>1590</td>\n",
              "      <td>business</td>\n",
              "    </tr>\n",
              "    <tr>\n",
              "      <th>1488</th>\n",
              "      <td>1587</td>\n",
              "      <td>tech</td>\n",
              "    </tr>\n",
              "    <tr>\n",
              "      <th>1489</th>\n",
              "      <td>538</td>\n",
              "      <td>tech</td>\n",
              "    </tr>\n",
              "  </tbody>\n",
              "</table>\n",
              "<p>1490 rows × 2 columns</p>\n",
              "</div>\n",
              "      <button class=\"colab-df-convert\" onclick=\"convertToInteractive('df-6f8f7146-5df1-45eb-8c9e-a0795f3a68a9')\"\n",
              "              title=\"Convert this dataframe to an interactive table.\"\n",
              "              style=\"display:none;\">\n",
              "        \n",
              "  <svg xmlns=\"http://www.w3.org/2000/svg\" height=\"24px\"viewBox=\"0 0 24 24\"\n",
              "       width=\"24px\">\n",
              "    <path d=\"M0 0h24v24H0V0z\" fill=\"none\"/>\n",
              "    <path d=\"M18.56 5.44l.94 2.06.94-2.06 2.06-.94-2.06-.94-.94-2.06-.94 2.06-2.06.94zm-11 1L8.5 8.5l.94-2.06 2.06-.94-2.06-.94L8.5 2.5l-.94 2.06-2.06.94zm10 10l.94 2.06.94-2.06 2.06-.94-2.06-.94-.94-2.06-.94 2.06-2.06.94z\"/><path d=\"M17.41 7.96l-1.37-1.37c-.4-.4-.92-.59-1.43-.59-.52 0-1.04.2-1.43.59L10.3 9.45l-7.72 7.72c-.78.78-.78 2.05 0 2.83L4 21.41c.39.39.9.59 1.41.59.51 0 1.02-.2 1.41-.59l7.78-7.78 2.81-2.81c.8-.78.8-2.07 0-2.86zM5.41 20L4 18.59l7.72-7.72 1.47 1.35L5.41 20z\"/>\n",
              "  </svg>\n",
              "      </button>\n",
              "      \n",
              "  <style>\n",
              "    .colab-df-container {\n",
              "      display:flex;\n",
              "      flex-wrap:wrap;\n",
              "      gap: 12px;\n",
              "    }\n",
              "\n",
              "    .colab-df-convert {\n",
              "      background-color: #E8F0FE;\n",
              "      border: none;\n",
              "      border-radius: 50%;\n",
              "      cursor: pointer;\n",
              "      display: none;\n",
              "      fill: #1967D2;\n",
              "      height: 32px;\n",
              "      padding: 0 0 0 0;\n",
              "      width: 32px;\n",
              "    }\n",
              "\n",
              "    .colab-df-convert:hover {\n",
              "      background-color: #E2EBFA;\n",
              "      box-shadow: 0px 1px 2px rgba(60, 64, 67, 0.3), 0px 1px 3px 1px rgba(60, 64, 67, 0.15);\n",
              "      fill: #174EA6;\n",
              "    }\n",
              "\n",
              "    [theme=dark] .colab-df-convert {\n",
              "      background-color: #3B4455;\n",
              "      fill: #D2E3FC;\n",
              "    }\n",
              "\n",
              "    [theme=dark] .colab-df-convert:hover {\n",
              "      background-color: #434B5C;\n",
              "      box-shadow: 0px 1px 3px 1px rgba(0, 0, 0, 0.15);\n",
              "      filter: drop-shadow(0px 1px 2px rgba(0, 0, 0, 0.3));\n",
              "      fill: #FFFFFF;\n",
              "    }\n",
              "  </style>\n",
              "\n",
              "      <script>\n",
              "        const buttonEl =\n",
              "          document.querySelector('#df-6f8f7146-5df1-45eb-8c9e-a0795f3a68a9 button.colab-df-convert');\n",
              "        buttonEl.style.display =\n",
              "          google.colab.kernel.accessAllowed ? 'block' : 'none';\n",
              "\n",
              "        async function convertToInteractive(key) {\n",
              "          const element = document.querySelector('#df-6f8f7146-5df1-45eb-8c9e-a0795f3a68a9');\n",
              "          const dataTable =\n",
              "            await google.colab.kernel.invokeFunction('convertToInteractive',\n",
              "                                                     [key], {});\n",
              "          if (!dataTable) return;\n",
              "\n",
              "          const docLinkHtml = 'Like what you see? Visit the ' +\n",
              "            '<a target=\"_blank\" href=https://colab.research.google.com/notebooks/data_table.ipynb>data table notebook</a>'\n",
              "            + ' to learn more about interactive tables.';\n",
              "          element.innerHTML = '';\n",
              "          dataTable['output_type'] = 'display_data';\n",
              "          await google.colab.output.renderOutput(dataTable, element);\n",
              "          const docLink = document.createElement('div');\n",
              "          docLink.innerHTML = docLinkHtml;\n",
              "          element.appendChild(docLink);\n",
              "        }\n",
              "      </script>\n",
              "    </div>\n",
              "  </div>\n",
              "  "
            ]
          },
          "metadata": {},
          "execution_count": 75
        }
      ]
    },
    {
      "cell_type": "code",
      "source": [
        "df['Text']=text"
      ],
      "metadata": {
        "id": "HcdFWRtweVgC"
      },
      "execution_count": null,
      "outputs": []
    },
    {
      "cell_type": "code",
      "source": [
        "df.head()"
      ],
      "metadata": {
        "id": "QLFnCjgBecNW",
        "colab": {
          "base_uri": "https://localhost:8080/",
          "height": 206
        },
        "outputId": "b0101d38-9841-40a6-d6a5-be635bdc1bdc"
      },
      "execution_count": null,
      "outputs": [
        {
          "output_type": "execute_result",
          "data": {
            "text/plain": [
              "   ArticleId                                               Text  Category\n",
              "0       1833  [worldcom, e-boss, launches, defence, lawyers,...  business\n",
              "1        154  [german, business, confidence, slides, german,...  business\n",
              "2       1101  [bbc, poll, indicates, economic, gloom, citize...  business\n",
              "3       1976  [lifestyle, governs, mobile, choice, faster, b...      tech\n",
              "4        917  [enron, bosses, $, 168m, payout, eighteen, for...  business"
            ],
            "text/html": [
              "\n",
              "  <div id=\"df-eb978018-02c6-49b4-ab9f-0da07a926922\">\n",
              "    <div class=\"colab-df-container\">\n",
              "      <div>\n",
              "<style scoped>\n",
              "    .dataframe tbody tr th:only-of-type {\n",
              "        vertical-align: middle;\n",
              "    }\n",
              "\n",
              "    .dataframe tbody tr th {\n",
              "        vertical-align: top;\n",
              "    }\n",
              "\n",
              "    .dataframe thead th {\n",
              "        text-align: right;\n",
              "    }\n",
              "</style>\n",
              "<table border=\"1\" class=\"dataframe\">\n",
              "  <thead>\n",
              "    <tr style=\"text-align: right;\">\n",
              "      <th></th>\n",
              "      <th>ArticleId</th>\n",
              "      <th>Text</th>\n",
              "      <th>Category</th>\n",
              "    </tr>\n",
              "  </thead>\n",
              "  <tbody>\n",
              "    <tr>\n",
              "      <th>0</th>\n",
              "      <td>1833</td>\n",
              "      <td>[worldcom, e-boss, launches, defence, lawyers,...</td>\n",
              "      <td>business</td>\n",
              "    </tr>\n",
              "    <tr>\n",
              "      <th>1</th>\n",
              "      <td>154</td>\n",
              "      <td>[german, business, confidence, slides, german,...</td>\n",
              "      <td>business</td>\n",
              "    </tr>\n",
              "    <tr>\n",
              "      <th>2</th>\n",
              "      <td>1101</td>\n",
              "      <td>[bbc, poll, indicates, economic, gloom, citize...</td>\n",
              "      <td>business</td>\n",
              "    </tr>\n",
              "    <tr>\n",
              "      <th>3</th>\n",
              "      <td>1976</td>\n",
              "      <td>[lifestyle, governs, mobile, choice, faster, b...</td>\n",
              "      <td>tech</td>\n",
              "    </tr>\n",
              "    <tr>\n",
              "      <th>4</th>\n",
              "      <td>917</td>\n",
              "      <td>[enron, bosses, $, 168m, payout, eighteen, for...</td>\n",
              "      <td>business</td>\n",
              "    </tr>\n",
              "  </tbody>\n",
              "</table>\n",
              "</div>\n",
              "      <button class=\"colab-df-convert\" onclick=\"convertToInteractive('df-eb978018-02c6-49b4-ab9f-0da07a926922')\"\n",
              "              title=\"Convert this dataframe to an interactive table.\"\n",
              "              style=\"display:none;\">\n",
              "        \n",
              "  <svg xmlns=\"http://www.w3.org/2000/svg\" height=\"24px\"viewBox=\"0 0 24 24\"\n",
              "       width=\"24px\">\n",
              "    <path d=\"M0 0h24v24H0V0z\" fill=\"none\"/>\n",
              "    <path d=\"M18.56 5.44l.94 2.06.94-2.06 2.06-.94-2.06-.94-.94-2.06-.94 2.06-2.06.94zm-11 1L8.5 8.5l.94-2.06 2.06-.94-2.06-.94L8.5 2.5l-.94 2.06-2.06.94zm10 10l.94 2.06.94-2.06 2.06-.94-2.06-.94-.94-2.06-.94 2.06-2.06.94z\"/><path d=\"M17.41 7.96l-1.37-1.37c-.4-.4-.92-.59-1.43-.59-.52 0-1.04.2-1.43.59L10.3 9.45l-7.72 7.72c-.78.78-.78 2.05 0 2.83L4 21.41c.39.39.9.59 1.41.59.51 0 1.02-.2 1.41-.59l7.78-7.78 2.81-2.81c.8-.78.8-2.07 0-2.86zM5.41 20L4 18.59l7.72-7.72 1.47 1.35L5.41 20z\"/>\n",
              "  </svg>\n",
              "      </button>\n",
              "      \n",
              "  <style>\n",
              "    .colab-df-container {\n",
              "      display:flex;\n",
              "      flex-wrap:wrap;\n",
              "      gap: 12px;\n",
              "    }\n",
              "\n",
              "    .colab-df-convert {\n",
              "      background-color: #E8F0FE;\n",
              "      border: none;\n",
              "      border-radius: 50%;\n",
              "      cursor: pointer;\n",
              "      display: none;\n",
              "      fill: #1967D2;\n",
              "      height: 32px;\n",
              "      padding: 0 0 0 0;\n",
              "      width: 32px;\n",
              "    }\n",
              "\n",
              "    .colab-df-convert:hover {\n",
              "      background-color: #E2EBFA;\n",
              "      box-shadow: 0px 1px 2px rgba(60, 64, 67, 0.3), 0px 1px 3px 1px rgba(60, 64, 67, 0.15);\n",
              "      fill: #174EA6;\n",
              "    }\n",
              "\n",
              "    [theme=dark] .colab-df-convert {\n",
              "      background-color: #3B4455;\n",
              "      fill: #D2E3FC;\n",
              "    }\n",
              "\n",
              "    [theme=dark] .colab-df-convert:hover {\n",
              "      background-color: #434B5C;\n",
              "      box-shadow: 0px 1px 3px 1px rgba(0, 0, 0, 0.15);\n",
              "      filter: drop-shadow(0px 1px 2px rgba(0, 0, 0, 0.3));\n",
              "      fill: #FFFFFF;\n",
              "    }\n",
              "  </style>\n",
              "\n",
              "      <script>\n",
              "        const buttonEl =\n",
              "          document.querySelector('#df-eb978018-02c6-49b4-ab9f-0da07a926922 button.colab-df-convert');\n",
              "        buttonEl.style.display =\n",
              "          google.colab.kernel.accessAllowed ? 'block' : 'none';\n",
              "\n",
              "        async function convertToInteractive(key) {\n",
              "          const element = document.querySelector('#df-eb978018-02c6-49b4-ab9f-0da07a926922');\n",
              "          const dataTable =\n",
              "            await google.colab.kernel.invokeFunction('convertToInteractive',\n",
              "                                                     [key], {});\n",
              "          if (!dataTable) return;\n",
              "\n",
              "          const docLinkHtml = 'Like what you see? Visit the ' +\n",
              "            '<a target=\"_blank\" href=https://colab.research.google.com/notebooks/data_table.ipynb>data table notebook</a>'\n",
              "            + ' to learn more about interactive tables.';\n",
              "          element.innerHTML = '';\n",
              "          dataTable['output_type'] = 'display_data';\n",
              "          await google.colab.output.renderOutput(dataTable, element);\n",
              "          const docLink = document.createElement('div');\n",
              "          docLink.innerHTML = docLinkHtml;\n",
              "          element.appendChild(docLink);\n",
              "        }\n",
              "      </script>\n",
              "    </div>\n",
              "  </div>\n",
              "  "
            ]
          },
          "metadata": {},
          "execution_count": 77
        }
      ]
    },
    {
      "cell_type": "code",
      "source": [
        "#stemming\n",
        "tempdf=df['Text']\n"
      ],
      "metadata": {
        "id": "is_tw2SiYJTc"
      },
      "execution_count": null,
      "outputs": []
    },
    {
      "cell_type": "code",
      "source": [
        "from nltk.stem.snowball import SnowballStemmer\n",
        "\n",
        "# Use English stemmer.\n",
        "stemmer = SnowballStemmer(\"english\")\n"
      ],
      "metadata": {
        "id": "lwUat59wYhzs"
      },
      "execution_count": null,
      "outputs": []
    },
    {
      "cell_type": "code",
      "source": [
        "tempdf = tempdf.apply(lambda x: [stemmer.stem(y) for y in x])"
      ],
      "metadata": {
        "id": "1wxL5GffYd5U"
      },
      "execution_count": null,
      "outputs": []
    },
    {
      "cell_type": "code",
      "source": [
        "df['Text']=tempdf"
      ],
      "metadata": {
        "id": "OJGNjwgtYd2T"
      },
      "execution_count": null,
      "outputs": []
    },
    {
      "cell_type": "code",
      "source": [
        "df=df.rename(columns={'Text':0, 'Sentiment':1})"
      ],
      "metadata": {
        "id": "dja32hZne6We"
      },
      "execution_count": null,
      "outputs": []
    },
    {
      "cell_type": "code",
      "source": [
        "df.head()"
      ],
      "metadata": {
        "id": "h4aOYP9tYsOR",
        "colab": {
          "base_uri": "https://localhost:8080/",
          "height": 206
        },
        "outputId": "8dda3227-14fc-4508-b50c-5e814f1a0571"
      },
      "execution_count": null,
      "outputs": [
        {
          "output_type": "execute_result",
          "data": {
            "text/plain": [
              "   ArticleId                                                  0  Category\n",
              "0       1833  [worldcom, e-boss, launch, defenc, lawyer, def...  business\n",
              "1        154  [german, busi, confid, slide, german, busi, co...  business\n",
              "2       1101  [bbc, poll, indic, econom, gloom, citizen, maj...  business\n",
              "3       1976  [lifestyl, govern, mobil, choic, faster, bette...      tech\n",
              "4        917  [enron, boss, $, 168m, payout, eighteen, forme...  business"
            ],
            "text/html": [
              "\n",
              "  <div id=\"df-c219c1bc-333a-4b8d-943e-6927b4a246aa\">\n",
              "    <div class=\"colab-df-container\">\n",
              "      <div>\n",
              "<style scoped>\n",
              "    .dataframe tbody tr th:only-of-type {\n",
              "        vertical-align: middle;\n",
              "    }\n",
              "\n",
              "    .dataframe tbody tr th {\n",
              "        vertical-align: top;\n",
              "    }\n",
              "\n",
              "    .dataframe thead th {\n",
              "        text-align: right;\n",
              "    }\n",
              "</style>\n",
              "<table border=\"1\" class=\"dataframe\">\n",
              "  <thead>\n",
              "    <tr style=\"text-align: right;\">\n",
              "      <th></th>\n",
              "      <th>ArticleId</th>\n",
              "      <th>0</th>\n",
              "      <th>Category</th>\n",
              "    </tr>\n",
              "  </thead>\n",
              "  <tbody>\n",
              "    <tr>\n",
              "      <th>0</th>\n",
              "      <td>1833</td>\n",
              "      <td>[worldcom, e-boss, launch, defenc, lawyer, def...</td>\n",
              "      <td>business</td>\n",
              "    </tr>\n",
              "    <tr>\n",
              "      <th>1</th>\n",
              "      <td>154</td>\n",
              "      <td>[german, busi, confid, slide, german, busi, co...</td>\n",
              "      <td>business</td>\n",
              "    </tr>\n",
              "    <tr>\n",
              "      <th>2</th>\n",
              "      <td>1101</td>\n",
              "      <td>[bbc, poll, indic, econom, gloom, citizen, maj...</td>\n",
              "      <td>business</td>\n",
              "    </tr>\n",
              "    <tr>\n",
              "      <th>3</th>\n",
              "      <td>1976</td>\n",
              "      <td>[lifestyl, govern, mobil, choic, faster, bette...</td>\n",
              "      <td>tech</td>\n",
              "    </tr>\n",
              "    <tr>\n",
              "      <th>4</th>\n",
              "      <td>917</td>\n",
              "      <td>[enron, boss, $, 168m, payout, eighteen, forme...</td>\n",
              "      <td>business</td>\n",
              "    </tr>\n",
              "  </tbody>\n",
              "</table>\n",
              "</div>\n",
              "      <button class=\"colab-df-convert\" onclick=\"convertToInteractive('df-c219c1bc-333a-4b8d-943e-6927b4a246aa')\"\n",
              "              title=\"Convert this dataframe to an interactive table.\"\n",
              "              style=\"display:none;\">\n",
              "        \n",
              "  <svg xmlns=\"http://www.w3.org/2000/svg\" height=\"24px\"viewBox=\"0 0 24 24\"\n",
              "       width=\"24px\">\n",
              "    <path d=\"M0 0h24v24H0V0z\" fill=\"none\"/>\n",
              "    <path d=\"M18.56 5.44l.94 2.06.94-2.06 2.06-.94-2.06-.94-.94-2.06-.94 2.06-2.06.94zm-11 1L8.5 8.5l.94-2.06 2.06-.94-2.06-.94L8.5 2.5l-.94 2.06-2.06.94zm10 10l.94 2.06.94-2.06 2.06-.94-2.06-.94-.94-2.06-.94 2.06-2.06.94z\"/><path d=\"M17.41 7.96l-1.37-1.37c-.4-.4-.92-.59-1.43-.59-.52 0-1.04.2-1.43.59L10.3 9.45l-7.72 7.72c-.78.78-.78 2.05 0 2.83L4 21.41c.39.39.9.59 1.41.59.51 0 1.02-.2 1.41-.59l7.78-7.78 2.81-2.81c.8-.78.8-2.07 0-2.86zM5.41 20L4 18.59l7.72-7.72 1.47 1.35L5.41 20z\"/>\n",
              "  </svg>\n",
              "      </button>\n",
              "      \n",
              "  <style>\n",
              "    .colab-df-container {\n",
              "      display:flex;\n",
              "      flex-wrap:wrap;\n",
              "      gap: 12px;\n",
              "    }\n",
              "\n",
              "    .colab-df-convert {\n",
              "      background-color: #E8F0FE;\n",
              "      border: none;\n",
              "      border-radius: 50%;\n",
              "      cursor: pointer;\n",
              "      display: none;\n",
              "      fill: #1967D2;\n",
              "      height: 32px;\n",
              "      padding: 0 0 0 0;\n",
              "      width: 32px;\n",
              "    }\n",
              "\n",
              "    .colab-df-convert:hover {\n",
              "      background-color: #E2EBFA;\n",
              "      box-shadow: 0px 1px 2px rgba(60, 64, 67, 0.3), 0px 1px 3px 1px rgba(60, 64, 67, 0.15);\n",
              "      fill: #174EA6;\n",
              "    }\n",
              "\n",
              "    [theme=dark] .colab-df-convert {\n",
              "      background-color: #3B4455;\n",
              "      fill: #D2E3FC;\n",
              "    }\n",
              "\n",
              "    [theme=dark] .colab-df-convert:hover {\n",
              "      background-color: #434B5C;\n",
              "      box-shadow: 0px 1px 3px 1px rgba(0, 0, 0, 0.15);\n",
              "      filter: drop-shadow(0px 1px 2px rgba(0, 0, 0, 0.3));\n",
              "      fill: #FFFFFF;\n",
              "    }\n",
              "  </style>\n",
              "\n",
              "      <script>\n",
              "        const buttonEl =\n",
              "          document.querySelector('#df-c219c1bc-333a-4b8d-943e-6927b4a246aa button.colab-df-convert');\n",
              "        buttonEl.style.display =\n",
              "          google.colab.kernel.accessAllowed ? 'block' : 'none';\n",
              "\n",
              "        async function convertToInteractive(key) {\n",
              "          const element = document.querySelector('#df-c219c1bc-333a-4b8d-943e-6927b4a246aa');\n",
              "          const dataTable =\n",
              "            await google.colab.kernel.invokeFunction('convertToInteractive',\n",
              "                                                     [key], {});\n",
              "          if (!dataTable) return;\n",
              "\n",
              "          const docLinkHtml = 'Like what you see? Visit the ' +\n",
              "            '<a target=\"_blank\" href=https://colab.research.google.com/notebooks/data_table.ipynb>data table notebook</a>'\n",
              "            + ' to learn more about interactive tables.';\n",
              "          element.innerHTML = '';\n",
              "          dataTable['output_type'] = 'display_data';\n",
              "          await google.colab.output.renderOutput(dataTable, element);\n",
              "          const docLink = document.createElement('div');\n",
              "          docLink.innerHTML = docLinkHtml;\n",
              "          element.appendChild(docLink);\n",
              "        }\n",
              "      </script>\n",
              "    </div>\n",
              "  </div>\n",
              "  "
            ]
          },
          "metadata": {},
          "execution_count": 83
        }
      ]
    },
    {
      "cell_type": "code",
      "source": [
        "df=df.drop('ArticleId', axis=1)"
      ],
      "metadata": {
        "id": "z-69t7l5edCY"
      },
      "execution_count": null,
      "outputs": []
    },
    {
      "cell_type": "code",
      "source": [
        "df=df.rename(columns={'0':0, 'Category':1})"
      ],
      "metadata": {
        "id": "CUUYe2mdenLh"
      },
      "execution_count": null,
      "outputs": []
    },
    {
      "cell_type": "code",
      "source": [
        "df"
      ],
      "metadata": {
        "id": "iurQSM51fjfV",
        "colab": {
          "base_uri": "https://localhost:8080/",
          "height": 424
        },
        "outputId": "4bf9cbea-cbee-4d4c-f534-be5c5e05c06a"
      },
      "execution_count": null,
      "outputs": [
        {
          "output_type": "execute_result",
          "data": {
            "text/plain": [
              "                                                      0              1\n",
              "0     [worldcom, e-boss, launch, defenc, lawyer, def...       business\n",
              "1     [german, busi, confid, slide, german, busi, co...       business\n",
              "2     [bbc, poll, indic, econom, gloom, citizen, maj...       business\n",
              "3     [lifestyl, govern, mobil, choic, faster, bette...           tech\n",
              "4     [enron, boss, $, 168m, payout, eighteen, forme...       business\n",
              "...                                                 ...            ...\n",
              "1485  [doubl, evict, big, brother, model, capric, ho...  entertainment\n",
              "1486  [dj, doubl, act, revamp, chart, show, dj, duo,...  entertainment\n",
              "1487  [weak, dollar, hit, reuter, revenu, media, gro...       business\n",
              "1488  [appl, ipod, famili, epand, market, appl, epan...           tech\n",
              "1489  [santi, worm, make, unwelcom, visit, thousand,...           tech\n",
              "\n",
              "[1490 rows x 2 columns]"
            ],
            "text/html": [
              "\n",
              "  <div id=\"df-468a81a3-3ec3-453d-8ff3-20e6c2e00d6d\">\n",
              "    <div class=\"colab-df-container\">\n",
              "      <div>\n",
              "<style scoped>\n",
              "    .dataframe tbody tr th:only-of-type {\n",
              "        vertical-align: middle;\n",
              "    }\n",
              "\n",
              "    .dataframe tbody tr th {\n",
              "        vertical-align: top;\n",
              "    }\n",
              "\n",
              "    .dataframe thead th {\n",
              "        text-align: right;\n",
              "    }\n",
              "</style>\n",
              "<table border=\"1\" class=\"dataframe\">\n",
              "  <thead>\n",
              "    <tr style=\"text-align: right;\">\n",
              "      <th></th>\n",
              "      <th>0</th>\n",
              "      <th>1</th>\n",
              "    </tr>\n",
              "  </thead>\n",
              "  <tbody>\n",
              "    <tr>\n",
              "      <th>0</th>\n",
              "      <td>[worldcom, e-boss, launch, defenc, lawyer, def...</td>\n",
              "      <td>business</td>\n",
              "    </tr>\n",
              "    <tr>\n",
              "      <th>1</th>\n",
              "      <td>[german, busi, confid, slide, german, busi, co...</td>\n",
              "      <td>business</td>\n",
              "    </tr>\n",
              "    <tr>\n",
              "      <th>2</th>\n",
              "      <td>[bbc, poll, indic, econom, gloom, citizen, maj...</td>\n",
              "      <td>business</td>\n",
              "    </tr>\n",
              "    <tr>\n",
              "      <th>3</th>\n",
              "      <td>[lifestyl, govern, mobil, choic, faster, bette...</td>\n",
              "      <td>tech</td>\n",
              "    </tr>\n",
              "    <tr>\n",
              "      <th>4</th>\n",
              "      <td>[enron, boss, $, 168m, payout, eighteen, forme...</td>\n",
              "      <td>business</td>\n",
              "    </tr>\n",
              "    <tr>\n",
              "      <th>...</th>\n",
              "      <td>...</td>\n",
              "      <td>...</td>\n",
              "    </tr>\n",
              "    <tr>\n",
              "      <th>1485</th>\n",
              "      <td>[doubl, evict, big, brother, model, capric, ho...</td>\n",
              "      <td>entertainment</td>\n",
              "    </tr>\n",
              "    <tr>\n",
              "      <th>1486</th>\n",
              "      <td>[dj, doubl, act, revamp, chart, show, dj, duo,...</td>\n",
              "      <td>entertainment</td>\n",
              "    </tr>\n",
              "    <tr>\n",
              "      <th>1487</th>\n",
              "      <td>[weak, dollar, hit, reuter, revenu, media, gro...</td>\n",
              "      <td>business</td>\n",
              "    </tr>\n",
              "    <tr>\n",
              "      <th>1488</th>\n",
              "      <td>[appl, ipod, famili, epand, market, appl, epan...</td>\n",
              "      <td>tech</td>\n",
              "    </tr>\n",
              "    <tr>\n",
              "      <th>1489</th>\n",
              "      <td>[santi, worm, make, unwelcom, visit, thousand,...</td>\n",
              "      <td>tech</td>\n",
              "    </tr>\n",
              "  </tbody>\n",
              "</table>\n",
              "<p>1490 rows × 2 columns</p>\n",
              "</div>\n",
              "      <button class=\"colab-df-convert\" onclick=\"convertToInteractive('df-468a81a3-3ec3-453d-8ff3-20e6c2e00d6d')\"\n",
              "              title=\"Convert this dataframe to an interactive table.\"\n",
              "              style=\"display:none;\">\n",
              "        \n",
              "  <svg xmlns=\"http://www.w3.org/2000/svg\" height=\"24px\"viewBox=\"0 0 24 24\"\n",
              "       width=\"24px\">\n",
              "    <path d=\"M0 0h24v24H0V0z\" fill=\"none\"/>\n",
              "    <path d=\"M18.56 5.44l.94 2.06.94-2.06 2.06-.94-2.06-.94-.94-2.06-.94 2.06-2.06.94zm-11 1L8.5 8.5l.94-2.06 2.06-.94-2.06-.94L8.5 2.5l-.94 2.06-2.06.94zm10 10l.94 2.06.94-2.06 2.06-.94-2.06-.94-.94-2.06-.94 2.06-2.06.94z\"/><path d=\"M17.41 7.96l-1.37-1.37c-.4-.4-.92-.59-1.43-.59-.52 0-1.04.2-1.43.59L10.3 9.45l-7.72 7.72c-.78.78-.78 2.05 0 2.83L4 21.41c.39.39.9.59 1.41.59.51 0 1.02-.2 1.41-.59l7.78-7.78 2.81-2.81c.8-.78.8-2.07 0-2.86zM5.41 20L4 18.59l7.72-7.72 1.47 1.35L5.41 20z\"/>\n",
              "  </svg>\n",
              "      </button>\n",
              "      \n",
              "  <style>\n",
              "    .colab-df-container {\n",
              "      display:flex;\n",
              "      flex-wrap:wrap;\n",
              "      gap: 12px;\n",
              "    }\n",
              "\n",
              "    .colab-df-convert {\n",
              "      background-color: #E8F0FE;\n",
              "      border: none;\n",
              "      border-radius: 50%;\n",
              "      cursor: pointer;\n",
              "      display: none;\n",
              "      fill: #1967D2;\n",
              "      height: 32px;\n",
              "      padding: 0 0 0 0;\n",
              "      width: 32px;\n",
              "    }\n",
              "\n",
              "    .colab-df-convert:hover {\n",
              "      background-color: #E2EBFA;\n",
              "      box-shadow: 0px 1px 2px rgba(60, 64, 67, 0.3), 0px 1px 3px 1px rgba(60, 64, 67, 0.15);\n",
              "      fill: #174EA6;\n",
              "    }\n",
              "\n",
              "    [theme=dark] .colab-df-convert {\n",
              "      background-color: #3B4455;\n",
              "      fill: #D2E3FC;\n",
              "    }\n",
              "\n",
              "    [theme=dark] .colab-df-convert:hover {\n",
              "      background-color: #434B5C;\n",
              "      box-shadow: 0px 1px 3px 1px rgba(0, 0, 0, 0.15);\n",
              "      filter: drop-shadow(0px 1px 2px rgba(0, 0, 0, 0.3));\n",
              "      fill: #FFFFFF;\n",
              "    }\n",
              "  </style>\n",
              "\n",
              "      <script>\n",
              "        const buttonEl =\n",
              "          document.querySelector('#df-468a81a3-3ec3-453d-8ff3-20e6c2e00d6d button.colab-df-convert');\n",
              "        buttonEl.style.display =\n",
              "          google.colab.kernel.accessAllowed ? 'block' : 'none';\n",
              "\n",
              "        async function convertToInteractive(key) {\n",
              "          const element = document.querySelector('#df-468a81a3-3ec3-453d-8ff3-20e6c2e00d6d');\n",
              "          const dataTable =\n",
              "            await google.colab.kernel.invokeFunction('convertToInteractive',\n",
              "                                                     [key], {});\n",
              "          if (!dataTable) return;\n",
              "\n",
              "          const docLinkHtml = 'Like what you see? Visit the ' +\n",
              "            '<a target=\"_blank\" href=https://colab.research.google.com/notebooks/data_table.ipynb>data table notebook</a>'\n",
              "            + ' to learn more about interactive tables.';\n",
              "          element.innerHTML = '';\n",
              "          dataTable['output_type'] = 'display_data';\n",
              "          await google.colab.output.renderOutput(dataTable, element);\n",
              "          const docLink = document.createElement('div');\n",
              "          docLink.innerHTML = docLinkHtml;\n",
              "          element.appendChild(docLink);\n",
              "        }\n",
              "      </script>\n",
              "    </div>\n",
              "  </div>\n",
              "  "
            ]
          },
          "metadata": {},
          "execution_count": 86
        }
      ]
    },
    {
      "cell_type": "code",
      "source": [
        "#Creating file classes list\n",
        "fileClassesList = ['tech','business','sport','entertainment','politics']"
      ],
      "metadata": {
        "id": "Nb8Bb_sqZbpS"
      },
      "execution_count": null,
      "outputs": []
    },
    {
      "cell_type": "code",
      "source": [
        "\n",
        "#Split of dataset on random manner depends on ratios used\n",
        "def randomSplitFunction(dataFiles,ratioUsed):\n",
        "    randomBooleanUsed = np.random.rand(len(dataFiles)) < ratioUsed\n",
        "    trainFiles = dataFiles[randomBooleanUsed]\n",
        "    testFiles = dataFiles[~randomBooleanUsed]\n",
        "    return trainFiles,testFiles"
      ],
      "metadata": {
        "id": "ibazqqsWaWYC"
      },
      "execution_count": null,
      "outputs": []
    },
    {
      "cell_type": "code",
      "source": [
        "#Creating function to reseting the index\n",
        "def resetIndexFunction(trainDataFiles,testDataFiles):\n",
        "    trainFinal = trainDataFiles.reset_index(drop=True)\n",
        "    testFinal = testDataFiles.reset_index(drop=True)\n",
        "    splittedTrainClass = Counter(trainFinal[1])\n",
        "    print(\"Count in Classes: \"+str(splittedTrainClass))\n",
        "    print()\n",
        "    return trainFinal,testFinal,splittedTrainClass"
      ],
      "metadata": {
        "id": "_dCXBVijaXZf"
      },
      "execution_count": null,
      "outputs": []
    },
    {
      "cell_type": "code",
      "source": [
        "#Creating function to count the number of UNIQUE words in a specific class\n",
        "def countUniqueWords(wordDictionary):\n",
        "    uniqueWords = set()\n",
        "    for iterator in wordDictionary:\n",
        "        uniqueWords = uniqueWords | set(wordDictionary[iterator])\n",
        "    uniqueWordsList = len(uniqueWords)\n",
        "    return uniqueWords,uniqueWordsList"
      ],
      "metadata": {
        "id": "efCaUDqDaeUZ"
      },
      "execution_count": null,
      "outputs": []
    },
    {
      "cell_type": "code",
      "source": [
        "#class frequency for each word\n",
        "def findCF(wordDictionary):\n",
        "    CFValues = {}\n",
        "    for iterator in wordDictionary:\n",
        "        for w in set(wordDictionary[iterator]):\n",
        "            CFValues[w] = []\n",
        "    for iterator in wordDictionary:\n",
        "        for w in set(wordDictionary[iterator]):\n",
        "            if iterator == 'tech':\n",
        "                CFValues[w].append(iterator)\n",
        "            elif iterator == 'business':\n",
        "                CFValues[w].append(iterator)       \n",
        "            elif iterator == 'sport':\n",
        "                CFValues[w].append(iterator)\n",
        "            elif iterator == 'entertainment':\n",
        "                CFValues[w].append(iterator)\n",
        "            else:\n",
        "                CFValues[w].append(iterator)\n",
        "    for x,y in CFValues.items():\n",
        "        CFValues[x] = len(y)\n",
        "    return CFValues\n",
        "     "
      ],
      "metadata": {
        "id": "mkqZTyKVaiHq"
      },
      "execution_count": null,
      "outputs": []
    },
    {
      "cell_type": "code",
      "source": [
        "\n",
        "#Creating function to evaluate class frequency\n",
        "def classDFrequencyEvaluation(w,CFValues):\n",
        "    rand = 0\n",
        "    try:\n",
        "        rand = CFValues[w]\n",
        "    except:\n",
        "        pass\n",
        "    return rand"
      ],
      "metadata": {
        "id": "JBVNMLC-akDb"
      },
      "execution_count": null,
      "outputs": []
    },
    {
      "cell_type": "code",
      "source": [
        "\n",
        "\n",
        "#Creating function to count the number of words in specific class\n",
        "def countWordsInClass(trainDataFiles):\n",
        "    wordDictionary= {}\n",
        "    for iterator in range(0,len(trainDataFiles)):\n",
        "        try:\n",
        "            wordDictionary[trainDataFiles[1][iterator]] = wordDictionary[trainDataFiles[1][iterator]] + trainDataFiles[0][iterator]\n",
        "        except:\n",
        "            wordDictionary[trainDataFiles[1][iterator]] = trainDataFiles[0][iterator]\n",
        "    return wordDictionary"
      ],
      "metadata": {
        "id": "2jH5n6jEaMbI"
      },
      "execution_count": null,
      "outputs": []
    },
    {
      "cell_type": "code",
      "source": [
        "\n",
        "#Creating function to TF-ICF value\n",
        "def tfIcfEvaluation(wordDictionary,CF):\n",
        "    tfIcfValues = {}\n",
        "    N=5\n",
        "    for iterator in wordDictionary:\n",
        "        tempDictonary={}\n",
        "        count=Counter(wordDictionary[iterator])\n",
        "        wordCount=len(wordDictionary[iterator])\n",
        "        for word in set(wordDictionary[iterator]):\n",
        "            termFrequency = count[word]/wordCount\n",
        "            classFrequency = classDFrequencyEvaluation(word,CF)\n",
        "            inverseClassFrequency = np.log((N)/(classFrequency))\n",
        "            tempDictonary[word] = termFrequency*inverseClassFrequency\n",
        "        tfIcfValues[iterator] = tempDictonary\n",
        "    return tfIcfValues"
      ],
      "metadata": {
        "id": "tZq8PQbPalsX"
      },
      "execution_count": null,
      "outputs": []
    },
    {
      "cell_type": "code",
      "source": [
        "\n",
        "#Creating function that will find top K-Features by using TF-ICF value\n",
        "def kFeatureUsingTfIcf(TF_ICF,featureValue):\n",
        "    finalFeaturesList=[]\n",
        "    kFeaturesList={}\n",
        "    for iterator in TF_ICF.keys():\n",
        "        tempFeatures=[]\n",
        "        sortedK = sorted(TF_ICF[iterator], key=TF_ICF[iterator].get, reverse=True)\n",
        "        for iteratorTwo in sortedK[0:int(featureValue)]:\n",
        "            finalFeaturesList.append(iteratorTwo)\n",
        "            tempFeatures.append(iteratorTwo)\n",
        "        kFeaturesList[iterator] = tempFeatures\n",
        "    return kFeaturesList,finalFeaturesList"
      ],
      "metadata": {
        "id": "ODyfyUP9an3o"
      },
      "execution_count": null,
      "outputs": []
    },
    {
      "cell_type": "code",
      "source": [
        "\n",
        "#Creating function to evaluate class frequences\n",
        "def countFrequencies(classList,TF_icfFeatures,kFeatures):\n",
        "    classOne = {}\n",
        "    classTwo = {}\n",
        "    for i in classList:\n",
        "        countTopKFeatures = Counter(kFeatures[i])\n",
        "        for j in TF_icfFeatures:\n",
        "            classOne[i, j] = countTopKFeatures[j]\n",
        "            try:\n",
        "                classTwo[i] = classTwo[i] + countTopKFeatures[j]\n",
        "            except:\n",
        "                classTwo[i] = countTopKFeatures[j]\n",
        "    return classOne,classTwo"
      ],
      "metadata": {
        "id": "lEpYxreHasdf"
      },
      "execution_count": null,
      "outputs": []
    },
    {
      "cell_type": "code",
      "source": [
        "\n",
        "def frequency(w, l,classOne,classTwo):\n",
        "    try:\n",
        "        return classOne[l, w],classTwo[l]\n",
        "    except:\n",
        "        return 0, classTwo[l]"
      ],
      "metadata": {
        "id": "e7Sij3Z0avmV"
      },
      "execution_count": null,
      "outputs": []
    },
    {
      "cell_type": "code",
      "source": [
        "#Creating function for Naive-Bayes algorithm driver code\n",
        "def nbAlgoFunction(disctintWordsC,classTrainSplit,trainData,testData,allClasses,classOne,classTwo):\n",
        "    truthValues = []\n",
        "    predictedValues = []\n",
        "    for iterator in range(testData.shape[0]):\n",
        "        truthValues.append(testData[1][iterator])\n",
        "        classWordProbability = []\n",
        "        for l in allClasses:\n",
        "            wordProbability = 0\n",
        "            for w in testData[0][iterator]:\n",
        "                freq, count = frequency(w, l,classOne,classTwo)\n",
        "                pp = (freq + 1) / (count + disctintWordsC)\n",
        "                wordProbability += np.log(pp)\n",
        "            wordProbability += np.log(classTrainSplit[l] / trainData.shape[0])            \n",
        "            classWordProbability.append(wordProbability)           \n",
        "        predictedValues.append(allClasses[np.argmax(classWordProbability)])        \n",
        "    return truthValues,predictedValues"
      ],
      "metadata": {
        "id": "8bbm-Zs5axnN"
      },
      "execution_count": null,
      "outputs": []
    },
    {
      "cell_type": "code",
      "source": [
        "\n",
        "#Creating function for evaluating accuracy\n",
        "def aacuracyEvaluation(predValues, truthValues):\n",
        "    valueOne = len([1 for i in range(len(predValues)) if predValues[i]==truthValues[i]])\n",
        "    return valueOne/len(predValues)"
      ],
      "metadata": {
        "id": "B_sWkUvZa07j"
      },
      "execution_count": null,
      "outputs": []
    },
    {
      "cell_type": "code",
      "source": [
        "#Creating function for evaluating confusion matrix\n",
        "def evaluateConfusionMatrix(predValues, truthValues,classes):\n",
        "    cMatrix = np.zeros((len(classes), len(classes))).astype(int)\n",
        "    for i in range(len(predValues)):\n",
        "        cMatrix[classes.index(predValues[i])][classes.index(truthValues[i])] += 1\n",
        "    return cMatrix"
      ],
      "metadata": {
        "id": "PW49EF_Ua2pc"
      },
      "execution_count": null,
      "outputs": []
    },
    {
      "cell_type": "code",
      "source": [
        "\n",
        "\n",
        "#Creating function for evaluating heatmap\n",
        "def heatmap(conf_mat):\n",
        "    sns.heatmap(conf_mat/np.sum(conf_mat), annot=True, fmt='.2%', cmap='Blues')"
      ],
      "metadata": {
        "id": "9zsZstCLa4L_"
      },
      "execution_count": null,
      "outputs": []
    },
    {
      "cell_type": "markdown",
      "source": [
        "**Driver Code**"
      ],
      "metadata": {
        "id": "TkynV6sGa6hf"
      }
    },
    {
      "cell_type": "code",
      "source": [
        "\n",
        "#Creating Driver function\n",
        "def helperFunction(dataFiles,ratio):\n",
        "    trainDataFiles,testData = randomSplitFunction(dataFiles,ratio)\n",
        "    trainDataFiles,testData,train_class_split = resetIndexFunction(trainDataFiles,testData)\n",
        "    wordDictionary = countWordsInClass(testData)\n",
        "    distinct_words,distinct_words_c = countUniqueWords(wordDictionary)\n",
        "    CFValues = findCF(wordDictionary)\n",
        "    valueTFICF = tfIcfEvaluation(wordDictionary,CFValues)\n",
        "    valuesFeature = [10,20,40,50,60,70]\n",
        "    for fValue in valuesFeature:\n",
        "        k_feature,featTFICF = kFeatureUsingTfIcf(valueTFICF,fValue)\n",
        "        class_f,class_c = countFrequencies(fileClassesList,featTFICF,k_feature)\n",
        "        truthValues,predictedValues = nbAlgoFunction(distinct_words_c,train_class_split,trainDataFiles,testData,fileClassesList,class_f,class_c)\n",
        "        accuracyEvaluated = aacuracyEvaluation(predictedValues,truthValues)\n",
        "        print(\"Training data size: \"+str(ratio*100)+\" %\")\n",
        "        print(\"Feature Selected: \"+str(fValue))\n",
        "        print(\"Accuracy Achieved: \"+str(\"{:.2f}\".format(accuracyEvaluated*100))+\" %\")\n",
        "        confusionMatrixEvaluated = evaluateConfusionMatrix(predictedValues,truthValues,fileClassesList)\n",
        "        print(\"Confusion Matrix: \")\n",
        "        print(confusionMatrixEvaluated)\n",
        "        print()\n",
        "        featureList.append(fValue)\n",
        "        listPref.append(accuracyEvaluated)\n",
        "        listTrainSize.append(ratio)"
      ],
      "metadata": {
        "id": "YLEK_2VVbBMR"
      },
      "execution_count": null,
      "outputs": []
    },
    {
      "cell_type": "code",
      "source": [
        "\n",
        "#Defining features, train dataset and ratio/proportion list\n",
        "featureList = []\n",
        "listPref = []\n",
        "listTrainSize = []\n",
        "proportionUsed = [0.7,0.6,0.8,0.5]\n",
        "s=1\n",
        "for currentRatio in proportionUsed:\n",
        "    print(\"Case \"+str(s))\n",
        "    helperFunction(df,currentRatio)\n",
        "    print(\"----------------------------------\")\n",
        "    print(\"----------------------------------\")\n",
        "    print()\n",
        "    s+=1"
      ],
      "metadata": {
        "id": "6UcKQtCBbCZn",
        "colab": {
          "base_uri": "https://localhost:8080/"
        },
        "outputId": "f95cc34e-6f4a-4941-fc2d-c039cb98ecfb"
      },
      "execution_count": null,
      "outputs": [
        {
          "output_type": "stream",
          "name": "stdout",
          "text": [
            "Case 1\n",
            "Count in Classes: Counter({'sport': 240, 'business': 221, 'entertainment': 189, 'tech': 187, 'politics': 184})\n",
            "\n",
            "Training data size: 70.0 %\n",
            "Feature Selected: 10\n",
            "Accuracy Achieved: 81.88 %\n",
            "Confusion Matrix: \n",
            "[[ 62   6   0   0   2]\n",
            " [  1  75   0   0   5]\n",
            " [  2  30 106   5  19]\n",
            " [  9   1   0  79   2]\n",
            " [  0   3   0   0  62]]\n",
            "\n",
            "Training data size: 70.0 %\n",
            "Feature Selected: 20\n",
            "Accuracy Achieved: 91.04 %\n",
            "Confusion Matrix: \n",
            "[[ 69   7   0   2   2]\n",
            " [  0  97   0   0   2]\n",
            " [  0   9 105   4   7]\n",
            " [  4   0   0  78   1]\n",
            " [  1   2   1   0  78]]\n",
            "\n",
            "Training data size: 70.0 %\n",
            "Feature Selected: 40\n",
            "Accuracy Achieved: 94.46 %\n",
            "Confusion Matrix: \n",
            "[[ 67   4   0   0   1]\n",
            " [  1 104   0   0   1]\n",
            " [  0   4 105   2   3]\n",
            " [  4   0   1  82   0]\n",
            " [  2   3   0   0  85]]\n",
            "\n",
            "Training data size: 70.0 %\n",
            "Feature Selected: 50\n",
            "Accuracy Achieved: 95.52 %\n",
            "Confusion Matrix: \n",
            "[[ 68   4   0   0   1]\n",
            " [  1 107   0   0   1]\n",
            " [  0   3 105   2   2]\n",
            " [  3   0   1  82   0]\n",
            " [  2   1   0   0  86]]\n",
            "\n",
            "Training data size: 70.0 %\n",
            "Feature Selected: 60\n",
            "Accuracy Achieved: 96.38 %\n",
            "Confusion Matrix: \n",
            "[[ 71   4   0   0   1]\n",
            " [  0 107   0   0   1]\n",
            " [  0   3 105   1   2]\n",
            " [  3   0   1  83   0]\n",
            " [  0   1   0   0  86]]\n",
            "\n",
            "Training data size: 70.0 %\n",
            "Feature Selected: 70\n",
            "Accuracy Achieved: 96.38 %\n",
            "Confusion Matrix: \n",
            "[[ 70   4   0   0   1]\n",
            " [  0 107   0   1   1]\n",
            " [  0   2 105   0   1]\n",
            " [  3   0   1  83   0]\n",
            " [  1   2   0   0  87]]\n",
            "\n",
            "----------------------------------\n",
            "----------------------------------\n",
            "\n",
            "Case 2\n",
            "Count in Classes: Counter({'business': 214, 'sport': 196, 'politics': 164, 'entertainment': 162, 'tech': 158})\n",
            "\n",
            "Training data size: 60.0 %\n",
            "Feature Selected: 10\n",
            "Accuracy Achieved: 77.52 %\n",
            "Confusion Matrix: \n",
            "[[ 72   7   0   0   0]\n",
            " [  2  97  47   8   8]\n",
            " [  0   0 102   0   0]\n",
            " [ 13   0   1  91   2]\n",
            " [ 16  18   0  12 100]]\n",
            "\n",
            "Training data size: 60.0 %\n",
            "Feature Selected: 20\n",
            "Accuracy Achieved: 86.07 %\n",
            "Confusion Matrix: \n",
            "[[ 81   4   0   1   0]\n",
            " [  3  98  12   4   4]\n",
            " [  0   0 133   0   0]\n",
            " [  6   0   3  95   0]\n",
            " [ 13  20   2  11 106]]\n",
            "\n",
            "Training data size: 60.0 %\n",
            "Feature Selected: 40\n",
            "Accuracy Achieved: 92.62 %\n",
            "Confusion Matrix: \n",
            "[[ 99   5   0   1   1]\n",
            " [  0 107   2  10   5]\n",
            " [  0   0 144   0   0]\n",
            " [  4   0   2  98   0]\n",
            " [  0  10   2   2 104]]\n",
            "\n",
            "Training data size: 60.0 %\n",
            "Feature Selected: 50\n",
            "Accuracy Achieved: 93.96 %\n",
            "Confusion Matrix: \n",
            "[[100   3   0   1   1]\n",
            " [  0 111   2   8   5]\n",
            " [  0   0 145   0   0]\n",
            " [  3   0   2 101   1]\n",
            " [  0   8   1   1 103]]\n",
            "\n",
            "Training data size: 60.0 %\n",
            "Feature Selected: 60\n",
            "Accuracy Achieved: 95.97 %\n",
            "Confusion Matrix: \n",
            "[[ 97   3   0   1   1]\n",
            " [  0 113   0   2   1]\n",
            " [  0   0 148   1   1]\n",
            " [  6   0   2 107   0]\n",
            " [  0   6   0   0 107]]\n",
            "\n",
            "Training data size: 60.0 %\n",
            "Feature Selected: 70\n",
            "Accuracy Achieved: 96.81 %\n",
            "Confusion Matrix: \n",
            "[[ 98   2   0   1   0]\n",
            " [  1 114   0   2   1]\n",
            " [  0   1 149   1   0]\n",
            " [  4   0   1 107   0]\n",
            " [  0   5   0   0 109]]\n",
            "\n",
            "----------------------------------\n",
            "----------------------------------\n",
            "\n",
            "Case 3\n",
            "Count in Classes: Counter({'sport': 285, 'business': 255, 'entertainment': 228, 'politics': 225, 'tech': 211})\n",
            "\n",
            "Training data size: 80.0 %\n",
            "Feature Selected: 10\n",
            "Accuracy Achieved: 89.16 %\n",
            "Confusion Matrix: \n",
            "[[43  1  0  0  0]\n",
            " [ 4 71  1  7  2]\n",
            " [ 2  5 60  3  1]\n",
            " [ 1  0  0 35  0]\n",
            " [ 0  4  0  0 46]]\n",
            "\n",
            "Training data size: 80.0 %\n",
            "Feature Selected: 20\n",
            "Accuracy Achieved: 91.96 %\n",
            "Confusion Matrix: \n",
            "[[47  1  0  0  0]\n",
            " [ 2 72  1  5  0]\n",
            " [ 1  4 60  1  2]\n",
            " [ 0  0  0 37  0]\n",
            " [ 0  4  0  2 47]]\n",
            "\n",
            "Training data size: 80.0 %\n",
            "Feature Selected: 40\n",
            "Accuracy Achieved: 95.80 %\n",
            "Confusion Matrix: \n",
            "[[49  1  0  0  0]\n",
            " [ 0 77  0  3  0]\n",
            " [ 1  0 60  1  1]\n",
            " [ 0  0  1 40  0]\n",
            " [ 0  3  0  1 48]]\n",
            "\n",
            "Training data size: 80.0 %\n",
            "Feature Selected: 50\n",
            "Accuracy Achieved: 96.85 %\n",
            "Confusion Matrix: \n",
            "[[50  1  0  0  0]\n",
            " [ 0 77  0  2  0]\n",
            " [ 0  0 61  1  1]\n",
            " [ 0  0  0 41  0]\n",
            " [ 0  3  0  1 48]]\n",
            "\n",
            "Training data size: 80.0 %\n",
            "Feature Selected: 60\n",
            "Accuracy Achieved: 97.20 %\n",
            "Confusion Matrix: \n",
            "[[49  2  0  0  0]\n",
            " [ 1 75  0  1  0]\n",
            " [ 0  0 61  0  0]\n",
            " [ 0  0  0 44  0]\n",
            " [ 0  4  0  0 49]]\n",
            "\n",
            "Training data size: 80.0 %\n",
            "Feature Selected: 70\n",
            "Accuracy Achieved: 97.20 %\n",
            "Confusion Matrix: \n",
            "[[49  2  0  0  0]\n",
            " [ 1 75  0  1  0]\n",
            " [ 0  0 61  0  0]\n",
            " [ 0  0  0 44  0]\n",
            " [ 0  4  0  0 49]]\n",
            "\n",
            "----------------------------------\n",
            "----------------------------------\n",
            "\n",
            "Case 4\n",
            "Count in Classes: Counter({'sport': 177, 'business': 164, 'tech': 146, 'politics': 140, 'entertainment': 127})\n",
            "\n",
            "Training data size: 50.0 %\n",
            "Feature Selected: 10\n",
            "Accuracy Achieved: 82.34 %\n",
            "Confusion Matrix: \n",
            "[[ 96   4   0   0   2]\n",
            " [  3 120   0   0   0]\n",
            " [ 10  42 168  28  25]\n",
            " [  6   1   1 117   2]\n",
            " [  0   5   0   1 105]]\n",
            "\n",
            "Training data size: 50.0 %\n",
            "Feature Selected: 20\n",
            "Accuracy Achieved: 89.27 %\n",
            "Confusion Matrix: \n",
            "[[101   4   0   2   2]\n",
            " [  1 136   0   0   1]\n",
            " [  4  22 165   7   7]\n",
            " [  9   2   0 133   2]\n",
            " [  0   8   4   4 122]]\n",
            "\n",
            "Training data size: 50.0 %\n",
            "Feature Selected: 40\n",
            "Accuracy Achieved: 92.66 %\n",
            "Confusion Matrix: \n",
            "[[109   6   0   2   2]\n",
            " [  1 148   1   2   1]\n",
            " [  1   9 165   4   6]\n",
            " [  4   1   0 135   0]\n",
            " [  0   8   3   3 125]]\n",
            "\n",
            "Training data size: 50.0 %\n",
            "Feature Selected: 50\n",
            "Accuracy Achieved: 94.43 %\n",
            "Confusion Matrix: \n",
            "[[111   4   0   4   2]\n",
            " [  0 156   1   1   1]\n",
            " [  0   5 165   3   3]\n",
            " [  3   1   0 135   0]\n",
            " [  1   6   3   3 128]]\n",
            "\n",
            "Training data size: 50.0 %\n",
            "Feature Selected: 60\n",
            "Accuracy Achieved: 95.11 %\n",
            "Confusion Matrix: \n",
            "[[113   6   0   4   2]\n",
            " [  0 156   1   1   3]\n",
            " [  0   5 167   2   2]\n",
            " [  1   1   0 137   0]\n",
            " [  1   4   1   2 127]]\n",
            "\n",
            "Training data size: 50.0 %\n",
            "Feature Selected: 70\n",
            "Accuracy Achieved: 95.11 %\n",
            "Confusion Matrix: \n",
            "[[111   6   0   3   2]\n",
            " [  0 157   2   1   3]\n",
            " [  0   4 167   2   2]\n",
            " [  2   1   0 138   0]\n",
            " [  2   4   0   2 127]]\n",
            "\n",
            "----------------------------------\n",
            "----------------------------------\n",
            "\n"
          ]
        }
      ]
    },
    {
      "cell_type": "code",
      "source": [
        "class color:\n",
        "   DARKCYAN = '\\033[36m'\n",
        "   BLUE = '\\033[94m'\n",
        "   BOLD = '\\033[1m'\n",
        "   END = '\\033[0m'\n",
        "     "
      ],
      "metadata": {
        "id": "sRih_OTDg6uZ"
      },
      "execution_count": null,
      "outputs": []
    },
    {
      "cell_type": "code",
      "source": [
        "myTable = PrettyTable()\n",
        "myTable.field_names = [color.BOLD+\"Training Data Proportion\"+color.END,color.BOLD+ \"Features Selected/Class (On basis of TF-ICF) \"+color.END,color.BOLD+\"Accuracy Achieved\"+color.END]\n",
        "for i in range(len(listTrainSize)):\n",
        "    myTable.add_row([color.BOLD+str(round(listTrainSize[i]*100))+\" %\"+color.END,color.BLUE+color.BOLD+str(round(featureList[i]))+color.END,color.DARKCYAN+color.BLUE+str(\"{:.2f}\".format(listPref[i]*100))+\" %\"+color.END])\n",
        "print(myTable)"
      ],
      "metadata": {
        "id": "x3_zMUd9fWn1",
        "colab": {
          "base_uri": "https://localhost:8080/"
        },
        "outputId": "d8ac6680-b626-42e6-9ca5-bb6c967b2ef5"
      },
      "execution_count": null,
      "outputs": [
        {
          "output_type": "stream",
          "name": "stdout",
          "text": [
            "+--------------------------+-----------------------------------------------+-------------------+\n",
            "| \u001b[1mTraining Data Proportion\u001b[0m | \u001b[1mFeatures Selected/Class (On basis of TF-ICF) \u001b[0m | \u001b[1mAccuracy Achieved\u001b[0m |\n",
            "+--------------------------+-----------------------------------------------+-------------------+\n",
            "|           \u001b[1m70 %\u001b[0m           |                       \u001b[94m\u001b[1m10\u001b[0m                      |      \u001b[36m\u001b[94m81.88 %\u001b[0m      |\n",
            "|           \u001b[1m70 %\u001b[0m           |                       \u001b[94m\u001b[1m20\u001b[0m                      |      \u001b[36m\u001b[94m91.04 %\u001b[0m      |\n",
            "|           \u001b[1m70 %\u001b[0m           |                       \u001b[94m\u001b[1m40\u001b[0m                      |      \u001b[36m\u001b[94m94.46 %\u001b[0m      |\n",
            "|           \u001b[1m70 %\u001b[0m           |                       \u001b[94m\u001b[1m50\u001b[0m                      |      \u001b[36m\u001b[94m95.52 %\u001b[0m      |\n",
            "|           \u001b[1m70 %\u001b[0m           |                       \u001b[94m\u001b[1m60\u001b[0m                      |      \u001b[36m\u001b[94m96.38 %\u001b[0m      |\n",
            "|           \u001b[1m70 %\u001b[0m           |                       \u001b[94m\u001b[1m70\u001b[0m                      |      \u001b[36m\u001b[94m96.38 %\u001b[0m      |\n",
            "|           \u001b[1m60 %\u001b[0m           |                       \u001b[94m\u001b[1m10\u001b[0m                      |      \u001b[36m\u001b[94m77.52 %\u001b[0m      |\n",
            "|           \u001b[1m60 %\u001b[0m           |                       \u001b[94m\u001b[1m20\u001b[0m                      |      \u001b[36m\u001b[94m86.07 %\u001b[0m      |\n",
            "|           \u001b[1m60 %\u001b[0m           |                       \u001b[94m\u001b[1m40\u001b[0m                      |      \u001b[36m\u001b[94m92.62 %\u001b[0m      |\n",
            "|           \u001b[1m60 %\u001b[0m           |                       \u001b[94m\u001b[1m50\u001b[0m                      |      \u001b[36m\u001b[94m93.96 %\u001b[0m      |\n",
            "|           \u001b[1m60 %\u001b[0m           |                       \u001b[94m\u001b[1m60\u001b[0m                      |      \u001b[36m\u001b[94m95.97 %\u001b[0m      |\n",
            "|           \u001b[1m60 %\u001b[0m           |                       \u001b[94m\u001b[1m70\u001b[0m                      |      \u001b[36m\u001b[94m96.81 %\u001b[0m      |\n",
            "|           \u001b[1m80 %\u001b[0m           |                       \u001b[94m\u001b[1m10\u001b[0m                      |      \u001b[36m\u001b[94m89.16 %\u001b[0m      |\n",
            "|           \u001b[1m80 %\u001b[0m           |                       \u001b[94m\u001b[1m20\u001b[0m                      |      \u001b[36m\u001b[94m91.96 %\u001b[0m      |\n",
            "|           \u001b[1m80 %\u001b[0m           |                       \u001b[94m\u001b[1m40\u001b[0m                      |      \u001b[36m\u001b[94m95.80 %\u001b[0m      |\n",
            "|           \u001b[1m80 %\u001b[0m           |                       \u001b[94m\u001b[1m50\u001b[0m                      |      \u001b[36m\u001b[94m96.85 %\u001b[0m      |\n",
            "|           \u001b[1m80 %\u001b[0m           |                       \u001b[94m\u001b[1m60\u001b[0m                      |      \u001b[36m\u001b[94m97.20 %\u001b[0m      |\n",
            "|           \u001b[1m80 %\u001b[0m           |                       \u001b[94m\u001b[1m70\u001b[0m                      |      \u001b[36m\u001b[94m97.20 %\u001b[0m      |\n",
            "|           \u001b[1m50 %\u001b[0m           |                       \u001b[94m\u001b[1m10\u001b[0m                      |      \u001b[36m\u001b[94m82.34 %\u001b[0m      |\n",
            "|           \u001b[1m50 %\u001b[0m           |                       \u001b[94m\u001b[1m20\u001b[0m                      |      \u001b[36m\u001b[94m89.27 %\u001b[0m      |\n",
            "|           \u001b[1m50 %\u001b[0m           |                       \u001b[94m\u001b[1m40\u001b[0m                      |      \u001b[36m\u001b[94m92.66 %\u001b[0m      |\n",
            "|           \u001b[1m50 %\u001b[0m           |                       \u001b[94m\u001b[1m50\u001b[0m                      |      \u001b[36m\u001b[94m94.43 %\u001b[0m      |\n",
            "|           \u001b[1m50 %\u001b[0m           |                       \u001b[94m\u001b[1m60\u001b[0m                      |      \u001b[36m\u001b[94m95.11 %\u001b[0m      |\n",
            "|           \u001b[1m50 %\u001b[0m           |                       \u001b[94m\u001b[1m70\u001b[0m                      |      \u001b[36m\u001b[94m95.11 %\u001b[0m      |\n",
            "+--------------------------+-----------------------------------------------+-------------------+\n"
          ]
        }
      ]
    },
    {
      "cell_type": "code",
      "source": [
        "\n",
        "#On train:test ratio of 50:50\n",
        "plt.plot(featureList[0:4],listPref[0:4],color='orange',linewidth=4,\n",
        "         marker=(5,1),markerfacecolor='black',markersize=12)\n",
        "plt.xlabel(\"FEATURE COUNT\")\n",
        "plt.ylabel(\"ACCURACY\")\n",
        "plt.title(\"NUMBER OF FEATURES SELECTED V/S ACCURACY WITH SPLIT RATIO OF 50:50\")\n",
        "plt.show()"
      ],
      "metadata": {
        "id": "dVnngjShfhMv",
        "colab": {
          "base_uri": "https://localhost:8080/",
          "height": 295
        },
        "outputId": "42ba1882-20bb-439d-b73d-d21aa0181f33"
      },
      "execution_count": null,
      "outputs": [
        {
          "output_type": "display_data",
          "data": {
            "text/plain": [
              "<Figure size 432x288 with 1 Axes>"
            ],
            "image/png": "[encoded data removed]"
          },
          "metadata": {
            "needs_background": "light"
          }
        }
      ]
    },
    {
      "cell_type": "code",
      "source": [
        "#On train:test ratio of 70:30\n",
        "plt.plot(featureList[4:8],listPref[4:8],color='green',linewidth=4,\n",
        "         marker=(5,1),markerfacecolor='yellow',markersize=12)\n",
        "plt.xlabel(\"FEATURES SELECTED\")\n",
        "plt.ylabel(\"ACCURACY\")\n",
        "plt.title(\"NUMBER OF FEATURES SELECTED V/S ACCURACY WITH SPLIT RATIO OF 70:30\")\n",
        "plt.show()"
      ],
      "metadata": {
        "id": "RgJYMvPyfj0B",
        "colab": {
          "base_uri": "https://localhost:8080/",
          "height": 295
        },
        "outputId": "78b4d645-5e87-455c-9415-e48a7de935ce"
      },
      "execution_count": null,
      "outputs": [
        {
          "output_type": "display_data",
          "data": {
            "text/plain": [
              "<Figure size 432x288 with 1 Axes>"
            ],
            "image/png": "[encoded data removed]"
          },
          "metadata": {
            "needs_background": "light"
          }
        }
      ]
    },
    {
      "cell_type": "code",
      "source": [
        "\n",
        "#On train:test ratio of 80:20\n",
        "plt.plot(featureList[8:12],listPref[8:12],color='maroon',linewidth=4,\n",
        "         marker=(5,1),markerfacecolor='cyan',markersize=12)\n",
        "plt.xlabel(\"FEATURES SELECTED\")\n",
        "plt.ylabel(\"ACCURACY\")\n",
        "plt.title(\"NUMBER OF FEATURES SELECTED V/S ACCURACY WITH SPLIT RATIO OF 80:20\")\n",
        "plt.show()"
      ],
      "metadata": {
        "id": "k7ZbgV0dfmDz",
        "colab": {
          "base_uri": "https://localhost:8080/",
          "height": 295
        },
        "outputId": "f3f85f87-2486-40e2-9e06-07270e51b66a"
      },
      "execution_count": null,
      "outputs": [
        {
          "output_type": "display_data",
          "data": {
            "text/plain": [
              "<Figure size 432x288 with 1 Axes>"
            ],
            "image/png": "[encoded data removed]"
          },
          "metadata": {
            "needs_background": "light"
          }
        }
      ]
    },
    {
      "cell_type": "code",
      "source": [
        "\n",
        "plt.plot([listTrainSize[3],listTrainSize[7],listTrainSize[11]],[listPref[3]*100,listPref[7]*100,listPref[11]*100],\n",
        "         color='red',linewidth=2,\n",
        "         marker=(5,1),markerfacecolor='white',markersize=12)\n",
        "plt.xlabel(\"PROPORTION OF TRAINING DATA\")\n",
        "plt.ylabel(\"ACCURACY\")\n",
        "plt.title(\"ACCURACY VS TRAINING DATA SIZE GRAPH\")\n",
        "plt.show()"
      ],
      "metadata": {
        "id": "cNYs3u9dfoF-",
        "colab": {
          "base_uri": "https://localhost:8080/",
          "height": 295
        },
        "outputId": "87b23b18-2342-4c06-ef64-f3f28d854495"
      },
      "execution_count": null,
      "outputs": [
        {
          "output_type": "display_data",
          "data": {
            "text/plain": [
              "<Figure size 432x288 with 1 Axes>"
            ],
            "image/png": "[encoded data removed]"
          },
          "metadata": {
            "needs_background": "light"
          }
        }
      ]
    },
    {
      "cell_type": "code",
      "source": [],
      "metadata": {
        "id": "4iWlT4cnaUx4"
      },
      "execution_count": null,
      "outputs": []
    }
  ]
}