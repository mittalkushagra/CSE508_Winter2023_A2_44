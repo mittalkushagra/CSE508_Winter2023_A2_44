{
  "cells": [
    {
      "cell_type": "code",
      "execution_count": null,
      "metadata": {
        "id": "LfvzNQt35_3f"
      },
      "outputs": [],
      "source": [
        "import math\n",
        "import pandas as pd\n",
        "import numpy as np\n",
        "import matplotlib.pyplot as plt"
      ]
    },
    {
      "cell_type": "code",
      "source": [
        "from google.colab import drive\n",
        "drive.mount('/content/drive')"
      ],
      "metadata": {
        "colab": {
          "base_uri": "https://localhost:8080/"
        },
        "id": "bC_g6FHu7cU2",
        "outputId": "40dc8bcd-f05e-4893-ae14-bd469de69315"
      },
      "execution_count": null,
      "outputs": [
        {
          "output_type": "stream",
          "name": "stdout",
          "text": [
            "Mounted at /content/drive\n"
          ]
        }
      ]
    },
    {
      "cell_type": "code",
      "execution_count": null,
      "metadata": {
        "colab": {
          "base_uri": "https://localhost:8080/"
        },
        "id": "Ys7UXDUB5_3j",
        "outputId": "4e5ab457-aa01-453f-bb53-00dd3f45ec4a"
      },
      "outputs": [
        {
          "output_type": "stream",
          "name": "stdout",
          "text": [
            "Creating file database....\n",
            "File database created successfully\n"
          ]
        }
      ],
      "source": [
        "print(\"Creating file database....\")\n",
        "df=pd.read_csv('/content/drive/MyDrive/IR ASSIGNMENT 2/IR-assignment-2-data (2).zip',sep=\" \",header=None)\n",
        "filedatabase={}\n",
        "for iterator in range(0,len(df.index)):\n",
        "    check1=df.at[iterator,1]\n",
        "    if (\"qid:4\"==check1):\n",
        "        filedatabase[iterator]=df.at[iterator,0]\n",
        "print(\"File database created successfully\")"
      ]
    },
    {
      "cell_type": "code",
      "execution_count": null,
      "metadata": {
        "id": "1P2DOaeR5_3k"
      },
      "outputs": [],
      "source": [
        "def queryurlfile(df, filedatabase):\n",
        "    newdataframe=df.drop((df.index[len(filedatabase):]))\n",
        "    #newdataframe.to_csv(\"fileobtained.csv\")\n",
        "    np.savetxt('fileobtained.txt',newdataframe.values,delimiter=\" \",fmt='%s')"
      ]
    },
    {
      "cell_type": "code",
      "execution_count": null,
      "metadata": {
        "id": "zCo_7uFn5_3l"
      },
      "outputs": [],
      "source": [
        "queryurlfile(df,filedatabase)\n",
        "tupledocid=filedatabase.items()\n",
        "tupledocid=list(tupledocid)\n",
        "filedatabase=sorted(filedatabase.items(),key=lambda pairs:(pairs[1],pairs[0]),reverse=True)"
      ]
    },
    {
      "cell_type": "code",
      "execution_count": null,
      "metadata": {
        "colab": {
          "base_uri": "https://localhost:8080/"
        },
        "id": "kH9Z1Ub45_3l",
        "outputId": "0f89973c-a7c8-465b-85a9-ba6689316785"
      },
      "outputs": [
        {
          "output_type": "execute_result",
          "data": {
            "text/plain": [
              "19893497375938370599826047614905329896936840170566570588205180312704857992695193482412686565431050240000000000000000000000"
            ]
          },
          "metadata": {},
          "execution_count": 6
        }
      ],
      "source": [
        "def countfinal(filedatabase):\n",
        "    find1=0\n",
        "    find2=0\n",
        "    find3=0\n",
        "    find4=0\n",
        "    for iterator in filedatabase:\n",
        "        if (iterator[1]==1):\n",
        "            find3=find3+1;\n",
        "        elif (iterator[1]==2):\n",
        "            find2=find2+1;\n",
        "        elif (iterator[1]==3):\n",
        "            find1=find1+1;\n",
        "        else:\n",
        "            find4=find4+1;\n",
        "    a=math.factorial(find1)\n",
        "    b=math.factorial(find2)\n",
        "    c=math.factorial(find3)\n",
        "    d=math.factorial(find4)\n",
        "    answer=a*b*c*d\n",
        "    return answer\n",
        "countfinal(filedatabase)"
      ]
    },
    {
      "cell_type": "code",
      "execution_count": null,
      "metadata": {
        "id": "VTN8sEBx5_3m"
      },
      "outputs": [],
      "source": [
        "def calculate1(files,cal_len):\n",
        "    output=files[0][1]\n",
        "    for iterator in range(1,cal_len):\n",
        "        d=files[iterator][1]\n",
        "        e=math.log2(iterator+1)\n",
        "        output=output+(d/e)   \n",
        "    return output "
      ]
    },
    {
      "cell_type": "code",
      "execution_count": null,
      "metadata": {
        "colab": {
          "base_uri": "https://localhost:8080/"
        },
        "id": "X8__mlnT5_3m",
        "outputId": "f9b47751-9e14-41b0-d792-ad343c9f374a"
      },
      "outputs": [
        {
          "output_type": "stream",
          "name": "stdout",
          "text": [
            "nDCG at 50:               0.3521042740324887\n",
            "nDCG for whole Dataset:  0.5979226516897831\n"
          ]
        }
      ],
      "source": [
        "length_a=len(filedatabase)\n",
        "length_b=len(tupledocid)\n",
        "calundcg=calculate1(tupledocid,length_b)\n",
        "calundcgval=calculate1(tupledocid,51)\n",
        "caldcgmax=calculate1(filedatabase,length_a)\n",
        "caldcgval=calculate1(filedatabase,51)\n",
        "ndcg50=calundcgval/caldcgval\n",
        "ndcgwhole=calundcg/caldcgmax\n",
        "print(\"nDCG at 50: {0:32}\".format(ndcg50))\n",
        "print(\"nDCG for whole Dataset: \",ndcgwhole)"
      ]
    },
    {
      "cell_type": "code",
      "execution_count": null,
      "metadata": {
        "id": "YPFnPIv55_3n"
      },
      "outputs": [],
      "source": [
        "def calculate2(filedatabase):\n",
        "    for iterator in range(0,len(df.index)):\n",
        "        check1=df.at[iterator,1]\n",
        "        if(\"qid:4\"==check1):\n",
        "            store=float(df.at[iterator,76][3:])\n",
        "            f=df.at[iterator,0]\n",
        "            variable=(store,f)\n",
        "            filedatabase[iterator]=variable"
      ]
    },
    {
      "cell_type": "code",
      "execution_count": null,
      "metadata": {
        "id": "SiA2bM935_3n"
      },
      "outputs": [],
      "source": [
        "storedval={}"
      ]
    },
    {
      "cell_type": "code",
      "execution_count": null,
      "metadata": {
        "id": "ZjX-qStg5_3o"
      },
      "outputs": [],
      "source": [
        "def gpr(pair1):\n",
        "    xaxis=[]\n",
        "    cal3=sorted(pair1.items(),key=lambda pairs:(pairs[1],pairs[0]),reverse=True)\n",
        "    document1=103\n",
        "    yaxis=[]\n",
        "    document2=74\n",
        "    document3=0 \n",
        "    tfsort=len(cal3)\n",
        "    for iterator in range(0,tfsort):\n",
        "        if (cal3[iterator][1][1]!=0):\n",
        "            document3=document3+1\n",
        "        p=document3/(iterator+1)\n",
        "        yaxis.append(p)\n",
        "        r=document3/document2\n",
        "        xaxis.append(r)\n",
        "    plt.plot(xaxis, yaxis,color='green',linewidth=2.5)\n",
        "    plt.title('Precision Recall Curve')\n",
        "    plt.ylabel('Precision')\n",
        "    plt.xlabel('Recall')\n",
        "    plt.show()"
      ]
    },
    {
      "cell_type": "code",
      "execution_count": null,
      "metadata": {
        "colab": {
          "base_uri": "https://localhost:8080/",
          "height": 295
        },
        "id": "KLulloWd5_3o",
        "outputId": "2dcb04e1-5fb5-4422-fff0-2a4c53b6542b"
      },
      "outputs": [
        {
          "output_type": "display_data",
          "data": {
            "text/plain": [
              "<Figure size 432x288 with 1 Axes>"
            ],
            "image/png": "[encoded data removed]"
          },
          "metadata": {
            "needs_background": "light"
          }
        }
      ],
      "source": [
        "calculate2(storedval)\n",
        "gpr(storedval)"
      ]
    },
    {
      "cell_type": "code",
      "source": [],
      "metadata": {
        "id": "jWT0BOhm8Vg5"
      },
      "execution_count": null,
      "outputs": []
    }
  ],
  "metadata": {
    "kernelspec": {
      "display_name": "Python 3",
      "language": "python",
      "name": "python3"
    },
    "language_info": {
      "codemirror_mode": {
        "name": "ipython",
        "version": 3
      },
      "file_extension": ".py",
      "mimetype": "text/x-python",
      "name": "python",
      "nbconvert_exporter": "python",
      "pygments_lexer": "ipython3",
      "version": "3.7.3"
    },
    "colab": {
      "provenance": []
    }
  },
  "nbformat": 4,
  "nbformat_minor": 0
}